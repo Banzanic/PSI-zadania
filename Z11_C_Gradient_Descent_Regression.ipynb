{
  "cells": [
    {
      "cell_type": "code",
      "execution_count": 1,
      "metadata": {
        "id": "PCQ2flnqTqg5"
      },
      "outputs": [],
      "source": [
        "import numpy as np\n",
        "\n",
        "import matplotlib as mpl\n",
        "import matplotlib.pyplot as plt"
      ]
    },
    {
      "cell_type": "markdown",
      "metadata": {
        "id": "XiHmgslUTqg8"
      },
      "source": [
        "# Zad\n",
        "Wygenerujmy punkty w kształcie prostej."
      ]
    },
    {
      "cell_type": "code",
      "execution_count": 2,
      "metadata": {
        "id": "Qd2X9xTVTqg9",
        "outputId": "59f3d265-7975-4286-c689-2b119c793bf0",
        "colab": {
          "base_uri": "https://localhost:8080/",
          "height": 287
        }
      },
      "outputs": [
        {
          "output_type": "display_data",
          "data": {
            "text/plain": [
              "<Figure size 432x288 with 1 Axes>"
            ],
            "image/png": "[encoded data removed]"
          },
          "metadata": {
            "needs_background": "light"
          }
        }
      ],
      "source": [
        "X = 2 * np.random.rand(100, 1)\n",
        "y = 4 + 3 * X + np.random.randn(100, 1)\n",
        "\n",
        "plt.plot(X, y, \"b.\")\n",
        "plt.xlabel(\"$x_1$\", fontsize=18)\n",
        "plt.ylabel(\"$y$\", rotation=0, fontsize=18)\n",
        "plt.axis([0, 2, 0, 15])\n",
        "plt.show()"
      ]
    },
    {
      "cell_type": "markdown",
      "metadata": {
        "id": "r0ZSiBPzTqg_"
      },
      "source": [
        "# Zad \n",
        "Wyznacz parametry prostej regresji (najmniejszych kwadratów) ze wzoru:\n",
        "\n",
        "$$\n",
        "\\theta= (X^TX)^{-1}  X^T  y; \n",
        "$$\n",
        "\n",
        "gdzie \n",
        "$$\n",
        "X = \n",
        "\\begin{bmatrix}\n",
        "1, x_1 \\\\\n",
        "1, x_2 \\\\\n",
        "\\vdots, \\vdots \\\\\n",
        "1, x_n \\\\\n",
        "\\end{bmatrix}\n",
        "$$\n",
        "\n",
        "Zwizualizuj wynik."
      ]
    },
    {
      "cell_type": "code",
      "execution_count": 3,
      "metadata": {
        "id": "jntIxt_pTqhA",
        "outputId": "0d4ff623-3ab3-40b7-8a1e-9887811c7036",
        "colab": {
          "base_uri": "https://localhost:8080/"
        }
      },
      "outputs": [
        {
          "output_type": "execute_result",
          "data": {
            "text/plain": [
              "array([[3.8626512 ],\n",
              "       [3.12462428]])"
            ]
          },
          "metadata": {},
          "execution_count": 3
        }
      ],
      "source": [
        "X_b = np.c_[np.ones((100, 1)), X]  # add x0 = 1 to each instance\n",
        "theta_best = np.linalg.inv(X_b.T.dot(X_b)).dot(X_b.T).dot(y)\n",
        "\n",
        "theta_best"
      ]
    },
    {
      "cell_type": "code",
      "execution_count": 6,
      "metadata": {
        "id": "rhsNT1SqTqhA"
      },
      "outputs": [],
      "source": [
        "X_new=np.linspace(0,2)\n",
        "y_predict=np.c_[np.ones((len(X_new),1)), X_new] @ theta_best"
      ]
    },
    {
      "cell_type": "code",
      "execution_count": 7,
      "metadata": {
        "id": "DHb7jvNwTqhA",
        "outputId": "1e404a11-f01e-4df1-fb40-e67217f3896a",
        "colab": {
          "base_uri": "https://localhost:8080/",
          "height": 265
        }
      },
      "outputs": [
        {
          "output_type": "display_data",
          "data": {
            "text/plain": [
              "<Figure size 432x288 with 1 Axes>"
            ],
            "image/png": "[encoded data removed]"
          },
          "metadata": {
            "needs_background": "light"
          }
        }
      ],
      "source": [
        "plt.plot(X_new, y_predict, \"r-\")\n",
        "plt.plot(X, y, \"b.\")\n",
        "plt.axis([0, 2, 0, 15])\n",
        "plt.show()"
      ]
    },
    {
      "cell_type": "markdown",
      "metadata": {
        "id": "erSyhstzTqhB"
      },
      "source": [
        "# Zad.\n",
        "Prównaj z wynikiem funkcji:\n",
        "```python\n",
        "LinearRegression()\n",
        "```"
      ]
    },
    {
      "cell_type": "code",
      "execution_count": 10,
      "metadata": {
        "id": "edEcQ125TqhC",
        "outputId": "07555969-c95f-46d3-8f72-4c30912065c8",
        "colab": {
          "base_uri": "https://localhost:8080/",
          "height": 265
        }
      },
      "outputs": [
        {
          "output_type": "display_data",
          "data": {
            "text/plain": [
              "<Figure size 432x288 with 1 Axes>"
            ],
            "image/png": "[encoded data removed]"
          },
          "metadata": {
            "needs_background": "light"
          }
        }
      ],
      "source": [
        "from sklearn.linear_model import LinearRegression\n",
        "\n",
        "lin=LinearRegression()\n",
        "lin.fit(X,y)\n",
        "y_new_predict=lin.predict(X_new.reshape(-1, 1))\n",
        "plt.plot(X_new, y_new_predict, \"r-\")\n",
        "plt.plot(X, y, \"b.\")\n",
        "plt.axis([0, 2, 0, 15])\n",
        "plt.show()"
      ]
    },
    {
      "cell_type": "markdown",
      "metadata": {
        "id": "vkZVtiunTqhC"
      },
      "source": [
        "# Zad.\n",
        "Wykonaj algorytm minimalizacji gradientowej (w prostej petli).\n",
        "Wykorzystaj pochodną.\n",
        "\n",
        "Funkcja kosztu regresji:\n",
        "$$\n",
        "MSE(X;\\theta) = \\frac{1}{m} \\sum ( \\theta^T x_i - y_i  )^2.\n",
        "$$\n",
        "\n",
        "Pochodna funkcja kosztu regresji:\n",
        "\n",
        "$$\n",
        "\\frac{\\partial}{\\partial \\theta_j}MSE(X;\\theta) = \\frac{2}{m} \\sum ( \\theta^T x_i - y_i  )^2 x_i^{j}.\n",
        "$$\n",
        "\n",
        "Czyli gradient wynosi:\n",
        "\n",
        "$$\n",
        "\\nabla_{\\theta}MSE(X;\\theta) = \n",
        "\\begin{bmatrix}\n",
        "    \\frac{\\partial}{\\partial \\theta_0}MSE\\\\\n",
        "    \\frac{\\partial}{\\partial \\theta_1}MSE\\\\\n",
        "    \\vdots \\\\\n",
        "    \\frac{\\partial}{\\partial \\theta_d}MSE\n",
        "\\end{bmatrix}\n",
        "=\n",
        "\\frac{2}{m} X^T(\\theta^TX - Y  ).\n",
        "$$\n",
        "\n",
        "Metoda gradientowa\n",
        "\n",
        "$$\n",
        "\\theta^{\\small \\mbox{Nex step}} = \\theta - \\eta \\nabla_{\\theta} MSE\n",
        "$$\n",
        "\n",
        "### Zapisz wszystkie $\\theta$ w liście "
      ]
    },
    {
      "cell_type": "code",
      "execution_count": 11,
      "metadata": {
        "id": "xXV1ftasTqhD"
      },
      "outputs": [],
      "source": [
        "eta = 0.1  # learning rate\n",
        "n_iterations = 1000\n",
        "m = 100\n",
        "theta_path_bgd = []\n",
        "\n",
        "theta_0 = np.random.randn(2,1)  # random initialization\n",
        "\n",
        "theta = theta_0\n",
        "\n",
        "\n"
      ]
    },
    {
      "cell_type": "code",
      "execution_count": null,
      "metadata": {
        "id": "_gFkI4hbTqhD",
        "outputId": "f7bcc6fe-2821-4a1a-cd36-6d2ab329d8fb"
      },
      "outputs": [
        {
          "name": "stdout",
          "output_type": "stream",
          "text": [
            "[[4.09233193]\n",
            " [3.17205943]]\n"
          ]
        }
      ],
      "source": [
        "import numpy as np\n",
        "import matplotlib.pyplot as plt\n",
        "#from mpl_toolkits.mplot3d import Axes3D\n",
        "from matplotlib import cm\n",
        "from mpl_toolkits.mplot3d import axes3d\n",
        "#%matplotlib notebook\n",
        "\n",
        "plt.close('all')\n",
        "\n",
        "fun = lambda x,y: 4*x**2+y**2\n",
        "\n",
        "fig = plt.figure()\n",
        "ax = fig.gca(projection='3d')\n",
        "\n",
        "# Make data.\n",
        "X = np.arange(-7, 7, 0.25)\n",
        "Y = np.arange(-7, 7, 0.25)\n",
        "X, Y = np.meshgrid(X, Y)\n",
        "Z = fun(X, Y)\n",
        "\n",
        "# Plot the surface.\n",
        "surf = ax.plot_surface(X, Y, Z, cmap=cm.coolwarm,\n",
        "                       linewidth=0.01, antialiased=True, alpha=0.3)\n",
        "\n",
        "\n",
        "#####################################\n",
        "\n",
        "def step_gradient_2d(x_current, y_current, learningRate):\n",
        "    x_gradient = 8*x_current\n",
        "    y_gradient = 2*y_current\n",
        "    \n",
        "    new_x = x_current-learningRate*x_gradient\n",
        "    new_y = y_current-learningRate*y_gradient\n",
        "    \n",
        "    ax.quiver(x_current, y_current, (fun(x_current, y_current)) ,\n",
        "              - (learningRate * x_gradient), - (learningRate * y_gradient), \n",
        "              (-(fun(x_current,y_current)-fun(new_x,new_y)))) \n",
        "    \n",
        "    return [new_x, new_y]\n",
        "\n",
        "def gradient_descent_runner_2d(starting_x, starting_y, learning_rate, num_iterations):\n",
        "    x = starting_x\n",
        "    y = starting_y\n",
        "    for i in range(num_iterations):\n",
        "        x, y = step_gradient_2d(x, y, learning_rate)\n",
        "        #print(x, y)\n",
        "    return [x, y]\n",
        "\n",
        "\n",
        "learning_rate = 0.2\n",
        "initial_x = 5 # initial y-intercept guess\n",
        "initial_y = 0 # initial slope guess\n",
        "num_iterations = 10\n",
        "[x, y] = gradient_descent_runner_2d(initial_x, initial_y, learning_rate, num_iterations)\n",
        "\n",
        "\n",
        "#####################################\n",
        "\n",
        "plt.plot([initial_x],[initial_y],[fun(initial_x,initial_y)],\"ok\")\n",
        "plt.show()"
      ]
    },
    {
      "cell_type": "markdown",
      "metadata": {
        "id": "wcxTJt_TTqhD"
      },
      "source": [
        "# Zad\n",
        "Zaimplemrntu Stochastic Gradient Descent.\n",
        "\n",
        "### Zapisz wszystkie $\\theta$ w liście "
      ]
    },
    {
      "cell_type": "code",
      "execution_count": null,
      "metadata": {
        "id": "cdpIJ4SXTqhE"
      },
      "outputs": [],
      "source": [
        "theta_path_sgd = []\n",
        "m = len(X_b)\n",
        "np.random.seed(42)"
      ]
    },
    {
      "cell_type": "code",
      "execution_count": null,
      "metadata": {
        "id": "nlGsBaKITqhE"
      },
      "outputs": [],
      "source": [
        "eta = 0.1  # learning rate\n",
        "n_iterations = 1000\n",
        "m = 100\n",
        "\n",
        "theta = theta_0\n"
      ]
    },
    {
      "cell_type": "code",
      "execution_count": null,
      "metadata": {
        "id": "5SPmA66sTqhE",
        "outputId": "603b1417-ff9b-4c54-cb61-fec14b77c7f2"
      },
      "outputs": [
        {
          "name": "stdout",
          "output_type": "stream",
          "text": [
            "[[4.56308925]\n",
            " [3.08139533]]\n"
          ]
        }
      ],
      "source": [
        ""
      ]
    },
    {
      "cell_type": "markdown",
      "metadata": {
        "id": "AjOkEn4iTqhE"
      },
      "source": [
        "# Zad\n",
        "Zaimplemrntu Mini-batch gradient descent\n",
        "\n",
        "### Zapisz wszystkie $\\theta$ w liście "
      ]
    },
    {
      "cell_type": "code",
      "execution_count": null,
      "metadata": {
        "id": "WxjFG9rOTqhF"
      },
      "outputs": [],
      "source": [
        "theta_path_mgd = []\n",
        "\n",
        "n_iterations = 50\n",
        "minibatch_size = 20\n",
        "\n",
        "theta = theta_0"
      ]
    },
    {
      "cell_type": "code",
      "execution_count": null,
      "metadata": {
        "id": "acKxBr0hTqhF"
      },
      "outputs": [],
      "source": [
        "print(theta)"
      ]
    },
    {
      "cell_type": "markdown",
      "metadata": {
        "id": "DyOfpO2uTqhF"
      },
      "source": [
        "# Zad\n",
        "Narysuj jak zmieniały parametr w różnych metodach."
      ]
    },
    {
      "cell_type": "code",
      "execution_count": null,
      "metadata": {
        "id": "50XQZ6YrTqhF"
      },
      "outputs": [],
      "source": [
        "theta_path_bgd = np.array(theta_path_bgd)\n",
        "theta_path_sgd = np.array(theta_path_sgd)\n",
        "theta_path_mgd = np.array(theta_path_mgd)"
      ]
    },
    {
      "cell_type": "code",
      "execution_count": null,
      "metadata": {
        "id": "P5fKo_iJTqhF",
        "outputId": "8d1effa1-5250-46ca-d9d4-15353666a9f6"
      },
      "outputs": [
        {
          "data": {
            "image/png": "[encoded data removed]",
            "text/plain": [
              "<Figure size 504x288 with 1 Axes>"
            ]
          },
          "metadata": {
            "needs_background": "light"
          },
          "output_type": "display_data"
        }
      ],
      "source": [
        ""
      ]
    },
    {
      "cell_type": "code",
      "execution_count": null,
      "metadata": {
        "id": "THjdkJ00TqhG"
      },
      "outputs": [],
      "source": [
        ""
      ]
    }
  ],
  "metadata": {
    "kernelspec": {
      "display_name": "Python 3",
      "language": "python",
      "name": "python3"
    },
    "language_info": {
      "codemirror_mode": {
        "name": "ipython",
        "version": 3
      },
      "file_extension": ".py",
      "mimetype": "text/x-python",
      "name": "python",
      "nbconvert_exporter": "python",
      "pygments_lexer": "ipython3",
      "version": "3.7.3"
    },
    "colab": {
      "name": "Z11_C_Gradient_Descent_Regression.ipynb",
      "provenance": []
    }
  },
  "nbformat": 4,
  "nbformat_minor": 0
}