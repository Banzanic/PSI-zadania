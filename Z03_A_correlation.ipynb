{
  "cells": [
    {
      "cell_type": "code",
      "execution_count": 3,
      "metadata": {
        "collapsed": true,
        "id": "_YpO2zI81mTB"
      },
      "outputs": [],
      "source": [
        "import numpy as np\n",
        "from scipy import stats\n",
        "import pandas as pd\n",
        "import matplotlib.pyplot as plt"
      ]
    },
    {
      "cell_type": "markdown",
      "metadata": {
        "id": "MxUi9lQd1mTD"
      },
      "source": [
        "# Korelacja"
      ]
    },
    {
      "cell_type": "markdown",
      "metadata": {
        "id": "lBBY_LaR1mTQ"
      },
      "source": [
        "Współczynnik korelacji między dwiema zmiennymi odpowiada na pytanie: \n",
        "\n",
        "<i>Czy dwie zmienne są powiązane? </i> \n",
        "\n",
        "## Współczynnik korelacji Pearsona \n",
        "\n",
        "Współczynnik korelacji Pearsona - współczynnik określający poziom zależności liniowej między zmiennymi losowymi.\n",
        "\n",
        "## Korelacja rang Spearmana \n",
        "\n",
        "Korelacja rang Spearmana (lub: korelacja rangowa Spearmana, rho Spearmana) – jedna z nieparametrycznych miar monotonicznej zależności statystycznej między zmiennymi losowymi.\n",
        "\n",
        "Korelacja rangowa przyjmuje zawsze wartości z przedziału $[-1,+1]$. Ich interpretacja jest podobna do klasycznego współczynnika korelacji Pearsona, z jednym zastrzeżeniem: \n",
        "- w odróżnieniu od współczynnika Pearsona, który mierzy liniową zależność między zmiennymi, a wszelkie inne związki traktuje jak zaburzone zależności liniowe, korelacja rangowa pokazuje dowolną monotoniczną zależność (także nieliniową).\n",
        "\n",
        "## Korelacja Tau Kendalla \n",
        "\n",
        "Tau Kendalla – statystyka będąca jedną z miar monotonicznej zależności dwóch zmiennych losowych. Służy w praktyce do opisu korelacji między zmiennymi porządkowymi.\n",
        "\n",
        "Tau Kendalla przyjmuje wartości od -1 do 1 włącznie. +1 oznacza, że każda ze zmiennych rośnie przy wzroście drugiej. -1 oznacza że każda maleje przy wzroście drugiej. Tym samym tau Kendalla, podobnie jak korelacja rangowa jest miarą monotonicznej zależności zmiennych losowych."
      ]
    },
    {
      "cell_type": "markdown",
      "metadata": {
        "id": "vdFVFdVg1mTS"
      },
      "source": [
        "# Zadanie 1 \n",
        "Policz korelacje: \n",
        "<ul>\n",
        "<li>pearson</li>\n",
        "<li>spearman</li>\n",
        "<li>kendall</li>\n",
        "</ul>\n",
        "\n",
        "dla zbioru:"
      ]
    },
    {
      "cell_type": "code",
      "execution_count": 4,
      "metadata": {
        "collapsed": true,
        "id": "i7BPz0tq1mTT"
      },
      "outputs": [],
      "source": [
        "f = lambda x: (x)\n",
        "x_tr = np.linspace(0., 5, 200)\n",
        "y_tr = f(x_tr)\n",
        "x = stats.uniform(1,3).rvs(100)\n",
        "y = f(x) + stats.norm(0,0.1).rvs(len(x))"
      ]
    },
    {
      "cell_type": "code",
      "execution_count": 5,
      "metadata": {
        "id": "OCd3wg9W1mTU",
        "outputId": "061962fa-e4cb-493a-b81a-d8ec063f332b",
        "colab": {
          "base_uri": "https://localhost:8080/",
          "height": 378
        }
      },
      "outputs": [
        {
          "output_type": "display_data",
          "data": {
            "text/plain": [
              "<Figure size 432x432 with 1 Axes>"
            ],
            "image/png": "[encoded data removed]"
          },
          "metadata": {
            "needs_background": "light"
          }
        }
      ],
      "source": [
        "plt.figure(figsize=(6,6));\n",
        "axes = plt.gca()\n",
        "axes.set_xlim([0,5])\n",
        "axes.set_ylim([0,5])\n",
        "plt.plot(x_tr, y_tr, '--k');\n",
        "plt.plot(x, y, 'ok', ms=3);\n",
        "plt.show()"
      ]
    },
    {
      "cell_type": "code",
      "execution_count": 6,
      "metadata": {
        "id": "A1wQ6hdQ1mTW",
        "outputId": "8f53c8f8-9ecd-42da-aba4-5c8182b503cf",
        "colab": {
          "base_uri": "https://localhost:8080/"
        }
      },
      "outputs": [
        {
          "output_type": "stream",
          "name": "stdout",
          "text": [
            "{'pearson': 0.9915788887169981, 'spearman': 0.9918151815181516, 'kendall': 0.9280808080808083}\n"
          ]
        }
      ],
      "source": [
        "corr = {}\n",
        "corr['pearson'], _ = stats.pearsonr(x,y)\n",
        "corr['spearman'], _ = stats.spearmanr(x,y)\n",
        "corr['kendall'], _ = stats.kendalltau(x,y)\n",
        "print(corr)    "
      ]
    },
    {
      "cell_type": "markdown",
      "metadata": {
        "id": "ezfyXAB91mTX"
      },
      "source": [
        "# Zadanie 2 \n",
        "Policz korelacje: \n",
        "<ul>\n",
        "<li>pearson</li>\n",
        "<li>spearman</li>\n",
        "<li>kendall</li>\n",
        "</ul>\n",
        "\n",
        "dla zbioru:"
      ]
    },
    {
      "cell_type": "code",
      "execution_count": 7,
      "metadata": {
        "collapsed": true,
        "id": "Z6w0G_WY1mTY"
      },
      "outputs": [],
      "source": [
        "f = lambda x: (-x+5)\n",
        "x_tr = np.linspace(0., 5, 200)\n",
        "y_tr = f(x_tr)\n",
        "x = stats.uniform(1,3).rvs(100)\n",
        "y = f(x) + stats.norm(0,0.1).rvs(len(x))"
      ]
    },
    {
      "cell_type": "code",
      "execution_count": 8,
      "metadata": {
        "id": "BWhM2WF61mTY",
        "outputId": "8c0cf94a-e396-45a8-9ff1-f4fb1bd21af3",
        "colab": {
          "base_uri": "https://localhost:8080/",
          "height": 378
        }
      },
      "outputs": [
        {
          "output_type": "display_data",
          "data": {
            "text/plain": [
              "<Figure size 432x432 with 1 Axes>"
            ],
            "image/png": "[encoded data removed]"
          },
          "metadata": {
            "needs_background": "light"
          }
        }
      ],
      "source": [
        "plt.figure(figsize=(6,6));\n",
        "axes = plt.gca()\n",
        "axes.set_xlim([0,5])\n",
        "axes.set_ylim([0,5])\n",
        "plt.plot(x_tr, y_tr, '--k');\n",
        "plt.plot(x, y, 'ok', ms=3);\n",
        "plt.show()"
      ]
    },
    {
      "cell_type": "code",
      "execution_count": 9,
      "metadata": {
        "collapsed": true,
        "id": "G9gXtA1i1mTZ",
        "outputId": "98b9b58f-ceff-4961-81f9-149896d99895",
        "colab": {
          "base_uri": "https://localhost:8080/"
        }
      },
      "outputs": [
        {
          "output_type": "stream",
          "name": "stdout",
          "text": [
            "{'pearson': -0.9945338307136048, 'spearman': -0.9914431443144313, 'kendall': -0.9236363636363638}\n"
          ]
        }
      ],
      "source": [
        "corr2 = {}\n",
        "corr2['pearson'], _ = stats.pearsonr(x,y)\n",
        "corr2['spearman'], _ = stats.spearmanr(x,y)\n",
        "corr2['kendall'], _ = stats.kendalltau(x,y)\n",
        "print(corr2) "
      ]
    },
    {
      "cell_type": "markdown",
      "metadata": {
        "id": "lQCN39ta1mTZ"
      },
      "source": [
        "# Zadanie 3\n",
        "Policz korelacje: \n",
        "<ul>\n",
        "<li>pearson</li>\n",
        "<li>spearman</li>\n",
        "<li>kendall</li>\n",
        "</ul>\n",
        "\n",
        "dla zbioru:"
      ]
    },
    {
      "cell_type": "code",
      "execution_count": 10,
      "metadata": {
        "id": "I1dFqoMH1mTa",
        "outputId": "32e17d41-6e7d-4879-9ea9-77e3e69ea762",
        "colab": {
          "base_uri": "https://localhost:8080/",
          "height": 378
        }
      },
      "outputs": [
        {
          "output_type": "display_data",
          "data": {
            "text/plain": [
              "<Figure size 432x432 with 1 Axes>"
            ],
            "image/png": "[encoded data removed]"
          },
          "metadata": {
            "needs_background": "light"
          }
        }
      ],
      "source": [
        "f = lambda x: (x)\n",
        "x_tr = np.linspace(0., 5, 200)\n",
        "y_tr = f(x_tr)\n",
        "x = stats.uniform(1,3).rvs(100)\n",
        "y = f(x) + stats.norm(0,0.5).rvs(len(x))\n",
        "\n",
        "plt.figure(figsize=(6,6));\n",
        "axes = plt.gca()\n",
        "axes.set_xlim([0,5])\n",
        "axes.set_ylim([0,5])\n",
        "plt.plot(x_tr, y_tr, '--k');\n",
        "plt.plot(x, y, 'ok', ms=3);\n",
        "plt.show()"
      ]
    },
    {
      "cell_type": "code",
      "execution_count": 11,
      "metadata": {
        "collapsed": true,
        "id": "JxAgL68W1mTa",
        "outputId": "7d3f5eac-f9ed-40e2-8a99-e6a8fe0fdaac",
        "colab": {
          "base_uri": "https://localhost:8080/"
        }
      },
      "outputs": [
        {
          "output_type": "stream",
          "name": "stdout",
          "text": [
            "{'pearson': 0.8607573316305135, 'spearman': 0.8771917191719171, 'kendall': 0.6836363636363638}\n"
          ]
        }
      ],
      "source": [
        "corr3 = {}\n",
        "corr3['pearson'], _ = stats.pearsonr(x,y)\n",
        "corr3['spearman'], _ = stats.spearmanr(x,y)\n",
        "corr3['kendall'], _ = stats.kendalltau(x,y)\n",
        "print(corr3)"
      ]
    },
    {
      "cell_type": "markdown",
      "metadata": {
        "id": "5vxozo631mTa"
      },
      "source": [
        "# Zadanie 4\n",
        "Policz korelacje: \n",
        "<ul>\n",
        "<li>pearson</li>\n",
        "<li>spearman</li>\n",
        "<li>kendall</li>\n",
        "</ul>\n",
        "\n",
        "dla zbioru:"
      ]
    },
    {
      "cell_type": "code",
      "execution_count": 12,
      "metadata": {
        "collapsed": true,
        "id": "ZKvUx-fk1mTb"
      },
      "outputs": [],
      "source": [
        "f = lambda x: x**2\n",
        "x_tr = np.linspace(-10, 10, 200)\n",
        "y_tr = f(x_tr)\n",
        "x = stats.uniform(-3,6).rvs(100)\n",
        "y = f(x) + stats.norm(0,0.3).rvs(len(x))"
      ]
    },
    {
      "cell_type": "code",
      "execution_count": 13,
      "metadata": {
        "id": "RWCaMF0a1mTb",
        "outputId": "bcb76037-46c9-49f2-ca17-b51b5d78c477",
        "colab": {
          "base_uri": "https://localhost:8080/",
          "height": 378
        }
      },
      "outputs": [
        {
          "output_type": "display_data",
          "data": {
            "text/plain": [
              "<Figure size 432x432 with 1 Axes>"
            ],
            "image/png": "[encoded data removed]"
          },
          "metadata": {
            "needs_background": "light"
          }
        }
      ],
      "source": [
        "plt.figure(figsize=(6,6));\n",
        "axes = plt.gca()\n",
        "axes.set_xlim([-3,3])\n",
        "axes.set_ylim([0,10])\n",
        "# axes.set_ylim([np.min(y),f(5)])\n",
        "plt.plot(x_tr, y_tr, '--k');\n",
        "plt.plot(x, y, 'ok', ms=3);\n",
        "plt.show()"
      ]
    },
    {
      "cell_type": "code",
      "execution_count": 14,
      "metadata": {
        "collapsed": true,
        "id": "JCfZEyeE1mTc",
        "outputId": "43892150-d99d-48eb-88c1-6d38aa5c0b32",
        "colab": {
          "base_uri": "https://localhost:8080/"
        }
      },
      "outputs": [
        {
          "output_type": "stream",
          "name": "stdout",
          "text": [
            "{'pearson': 0.022090526089839004, 'spearman': 0.05414941494149414, 'kendall': 0.060202020202020215}\n"
          ]
        }
      ],
      "source": [
        "corr4 = {}\n",
        "corr4['pearson'], _ = stats.pearsonr(x,y)\n",
        "corr4['spearman'], _ = stats.spearmanr(x,y)\n",
        "corr4['kendall'], _ = stats.kendalltau(x,y)\n",
        "print(corr4)"
      ]
    },
    {
      "cell_type": "markdown",
      "metadata": {
        "id": "loHG2g6Y1mTc"
      },
      "source": [
        "# Zadanie 5\n",
        "Wygeneruj zbiór tak by \n",
        "<ul>\n",
        "<li>korelacja pearsona wynosiła około 0.5</li>\n",
        "<li>korelacja spearmana wynosiła około 1</li>\n",
        "<li>korelacja kendalla wynosiła około 1</li>\n",
        "</ul>"
      ]
    },
    {
      "cell_type": "code",
      "execution_count": 73,
      "metadata": {
        "collapsed": true,
        "id": "rWLK1mLn1mTc",
        "outputId": "c32f7e6a-7759-4d63-e746-b4dd3ae4264b",
        "colab": {
          "base_uri": "https://localhost:8080/",
          "height": 432
        }
      },
      "outputs": [
        {
          "output_type": "display_data",
          "data": {
            "text/plain": [
              "<Figure size 504x504 with 1 Axes>"
            ],
            "image/png": "[encoded data removed]"
          },
          "metadata": {
            "needs_background": "light"
          }
        }
      ],
      "source": [
        "f = lambda x: x**21\n",
        "x_tr = np.linspace(-10, 10, 200)\n",
        "y_tr = f(x_tr)\n",
        "x = stats.uniform(-10, 10).rvs(200)\n",
        "y = f(x) + stats.norm(0,0.5).rvs(len(x))\n",
        "plt.figure(figsize=(7,7));\n",
        "axes = plt.gca()\n",
        "axes.set_xlim([-10,10])\n",
        "axes.set_ylim([-200,200])\n",
        "# axes.set_ylim([np.min(y),f(5)])\n",
        "plt.plot(x_tr, y_tr, '--k');\n",
        "plt.plot(x, y, 'ok', ms=3);\n",
        "plt.show()"
      ]
    },
    {
      "cell_type": "code",
      "execution_count": 74,
      "metadata": {
        "collapsed": true,
        "id": "ytKFMPVO1mTc",
        "outputId": "00722549-a54c-41cd-b933-9e6b7971e1ad",
        "colab": {
          "base_uri": "https://localhost:8080/"
        }
      },
      "outputs": [
        {
          "output_type": "stream",
          "name": "stdout",
          "text": [
            "{'pearson': 0.5114819539732601, 'spearman': 0.9989349733743343, 'kendall': 0.9898492462311557}\n"
          ]
        }
      ],
      "source": [
        "corr5 = {}\n",
        "corr5['pearson'], _ = stats.pearsonr(x,y)\n",
        "corr5['spearman'], _ = stats.spearmanr(x,y)\n",
        "corr5['kendall'], _ = stats.kendalltau(x,y)\n",
        "print(corr5)"
      ]
    }
  ],
  "metadata": {
    "kernelspec": {
      "display_name": "Python 3",
      "language": "python",
      "name": "python3"
    },
    "language_info": {
      "codemirror_mode": {
        "name": "ipython",
        "version": 3
      },
      "file_extension": ".py",
      "mimetype": "text/x-python",
      "name": "python",
      "nbconvert_exporter": "python",
      "pygments_lexer": "ipython3",
      "version": "3.8.5"
    },
    "colab": {
      "name": "Z03_A_correlation.ipynb",
      "provenance": []
    }
  },
  "nbformat": 4,
  "nbformat_minor": 0
}