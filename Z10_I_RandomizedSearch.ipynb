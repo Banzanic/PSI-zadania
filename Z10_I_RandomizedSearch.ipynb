{
  "cells": [
    {
      "cell_type": "markdown",
      "metadata": {
        "id": "iLRYTVJg9lg3"
      },
      "source": [
        "# Optymalizacja hiperparametrów "
      ]
    },
    {
      "cell_type": "markdown",
      "metadata": {
        "id": "dvYJeyp79lg6"
      },
      "source": [
        "#### Grid Search "
      ]
    },
    {
      "cell_type": "markdown",
      "metadata": {
        "id": "agoVg2nJ9lg6"
      },
      "source": [
        "Na przykładzie modelu *XGBoost* widzimy, że niektóre algorytmy są wysoce parametryzowalne, i prawidłowy dobór hiperparametrów potrafi czasami istotnie podnieść jakość naszych predykcji.  \n",
        "Poznaliśmy już przeszukiwanie po ustalonej siatce parametrów - `GridSearchCV`. Metoda ta ma jednak dwie dość istotne wady:\n",
        "* rozmiar siatki bardzo szybko rośnie wraz z ilością parametrów. Już dla czterech parametrów, po 5 wartości każdy, dostajemy $5^4 = 625$ kombinacji. W sytuacji, kiedy model uczy nam się minutę (a to w praktyce bardzo optymisyczny przypadek) musimy czekać 10 godzin na przejście pętli.\n",
        "* niska gęstość siatki powoduje, że możemy nie wstrzelić się w tą optymalną wartość. Przykład:\n",
        "\n",
        " https://cdn-images-1.medium.com/max/1600/1*ZTlQm_WRcrNqL-nLnx6GJA.png\n"
      ]
    },
    {
      "cell_type": "markdown",
      "metadata": {
        "id": "Ekvdd6Rp9lg7"
      },
      "source": [
        "#### Random Search "
      ]
    },
    {
      "cell_type": "markdown",
      "metadata": {
        "id": "Wmf4xVdr9lg7"
      },
      "source": [
        "Częściowym rozwiązaniem tego problemu jest `RandomizedSearch`, czyli losowe przeszukiwanie przestrzeni (zobrazowane na powyższym przykładzie). \n",
        "Zalety takiego rozwiązania:\n",
        "* wspomniane wyżej dokładniejsze przeszukanie każdego z parametrów\n",
        "* możliwość zadania dowolnego rozkładu (w praktyce dowolnego zaimplementowanego w scipy) dla zmiennych ciągłych\n",
        "* szybszy czas działania - dzięki temu że przeszukujemy przestrzeń dokładniej, możemy przez to mocno ograniczyć ilość iteracji.  \n",
        "\n",
        "\n",
        "Jak podawać wartości parametrów do przetestowania? Możemy to zrobić na dwa sposoby:\n",
        "* lista wartości - wtedy algorytm po prostu będzie losował jedną z wartości z listy\n",
        "* ciągły rozkład - losujemy wtedy dowolną wartość z tego rozkładu. w `RandomizedSearchCV` przez rozkład rozumiemy obiekt, który posiada metodę `rvs` zwracającą próbkę z tego rozkładu. Dużo rozkładów znajdziemy w module `scipy.stats.distributions` (https://docs.scipy.org/doc/scipy/reference/stats.html)"
      ]
    },
    {
      "cell_type": "code",
      "execution_count": 1,
      "metadata": {
        "collapsed": true,
        "id": "MfuCsrsF9lg8"
      },
      "outputs": [],
      "source": [
        "from sklearn.model_selection import GridSearchCV, RandomizedSearchCV\n",
        "from xgboost import XGBClassifier\n",
        "import matplotlib.pyplot as plt"
      ]
    },
    {
      "cell_type": "code",
      "execution_count": 2,
      "metadata": {
        "collapsed": true,
        "id": "HBXLeAfb9lg8"
      },
      "outputs": [],
      "source": [
        "import pandas as pd\n",
        "from sklearn.model_selection import cross_val_score, KFold\n",
        "from sklearn.metrics import accuracy_score\n",
        "\n",
        "from sklearn import datasets\n",
        "cancer = datasets.load_breast_cancer()\n",
        "\n",
        "X = cancer.data\n",
        "y = cancer.target\n",
        "\n",
        "from sklearn.model_selection import train_test_split\n",
        "X_train, X_test, y_train, y_test = train_test_split(X, y, random_state=42)"
      ]
    },
    {
      "cell_type": "code",
      "execution_count": null,
      "metadata": {
        "collapsed": true,
        "id": "VLB2bxw59lg9"
      },
      "outputs": [],
      "source": [
        "# RandomizedSearchCV??"
      ]
    },
    {
      "cell_type": "code",
      "execution_count": null,
      "metadata": {
        "collapsed": true,
        "id": "CYz0fj8F9lg-"
      },
      "outputs": [],
      "source": [
        "# GridSearchCV??"
      ]
    },
    {
      "cell_type": "code",
      "execution_count": 3,
      "metadata": {
        "collapsed": true,
        "id": "cEfZqWGg9lg-"
      },
      "outputs": [],
      "source": [
        "param_grid = {\n",
        "    'max_depth': [3, 5, 8, 10],\n",
        "    'learning_rate': [0.001, 0.01, 0.05, 0.1],\n",
        "    'n_estimators': [50, 100, 150, 200, 400],\n",
        "    'gamma': [0, 0.5, 1, 2],\n",
        "    'colsample_bytree': [1, 0.8, 0.5],\n",
        "    'subsample': [1, 0.8, 0.5],\n",
        "    'min_child_weight': [1, 5, 10]\n",
        "}"
      ]
    },
    {
      "cell_type": "code",
      "execution_count": 4,
      "metadata": {
        "collapsed": true,
        "id": "B9rfreqJ9lg_"
      },
      "outputs": [],
      "source": [
        "from scipy.stats.distributions import uniform, randint"
      ]
    },
    {
      "cell_type": "code",
      "execution_count": null,
      "metadata": {
        "collapsed": true,
        "id": "9agF0HA-9lg_"
      },
      "outputs": [],
      "source": [
        "# ??uniform"
      ]
    },
    {
      "cell_type": "markdown",
      "metadata": {
        "id": "aaD3JTA19lg_"
      },
      "source": [
        "Rozkłady przyjmują 2 parametry: `loc`, `scale`."
      ]
    },
    {
      "cell_type": "markdown",
      "metadata": {
        "id": "iJH7Q0q99lg_"
      },
      "source": [
        "`[2, 3, 4, 5] --> uniform(2, 3)`"
      ]
    },
    {
      "cell_type": "code",
      "execution_count": 5,
      "metadata": {
        "collapsed": true,
        "id": "_i3DCqcJ9lhA"
      },
      "outputs": [],
      "source": [
        "uniform_23 = uniform(2, 3)"
      ]
    },
    {
      "cell_type": "code",
      "execution_count": null,
      "metadata": {
        "collapsed": true,
        "id": "E2p71rfP9lhA"
      },
      "outputs": [],
      "source": [
        "# ??randint"
      ]
    },
    {
      "cell_type": "code",
      "execution_count": 6,
      "metadata": {
        "collapsed": true,
        "id": "UY1dvkU-9lhA"
      },
      "outputs": [],
      "source": [
        "# randint(low, high) losuje od low do high-1 włącznie!\n",
        "randint_25 = randint(2, 6)"
      ]
    },
    {
      "cell_type": "code",
      "execution_count": 7,
      "metadata": {
        "collapsed": true,
        "id": "WrwwUUqc9lhA"
      },
      "outputs": [],
      "source": [
        "param_grid = {\n",
        "    'max_depth': [3, 5, 8, 10],\n",
        "    'learning_rate': [0.001, 0.01, 0.05, 0.1],\n",
        "    'n_estimators': [50, 100, 150, 200, 400],\n",
        "    'gamma': [0, 0.5, 1, 2],\n",
        "    'colsample_bytree': [1, 0.8, 0.5],\n",
        "    'subsample': [1, 0.8, 0.5],\n",
        "    'min_child_weight': [1, 5, 10]\n",
        "}\n",
        "\n",
        "param_distribution = {\n",
        "    'max_depth': randint(3, 11),\n",
        "    'learning_rate': uniform(0.001, 0.1-0.001),\n",
        "    'n_estimators': randint(50, 400),\n",
        "    'gamma': uniform(0,2),\n",
        "    'colsample_bytree': uniform(0.5, 0.5),\n",
        "    'subsample': uniform(0.5, 0.5),\n",
        "    'min_child_weight': randint(1, 11)\n",
        "}"
      ]
    },
    {
      "cell_type": "markdown",
      "metadata": {
        "id": "tiWjZyZ19lhB"
      },
      "source": [
        "# Zad.\n",
        "\n",
        "Zbudować \n",
        "* `RandomSearchCV` \n",
        "* `GridSearchCV`\n",
        "(z wybraną przez siebie ilością iteracji) dla `XGBClassifier` \n",
        "\n",
        "Prównaj wyniki."
      ]
    },
    {
      "cell_type": "code",
      "execution_count": 12,
      "metadata": {
        "collapsed": true,
        "id": "bkSWOCmv9lhB",
        "outputId": "afe37b76-9ac6-4107-939b-699edb26c47c",
        "colab": {
          "base_uri": "https://localhost:8080/"
        }
      },
      "outputs": [
        {
          "output_type": "stream",
          "name": "stdout",
          "text": [
            "{'colsample_bytree': 0.6671999583000598, 'gamma': 0.40592010037201076, 'learning_rate': 0.03939567025022869, 'max_depth': 4, 'min_child_weight': 8, 'n_estimators': 294, 'subsample': 0.5698005881174828}\n",
            "0.9507250341997265\n"
          ]
        }
      ],
      "source": [
        "random = RandomizedSearchCV(XGBClassifier(), n_iter=5, param_distributions=param_distribution)\n",
        "random.fit(X_train, y_train)\n",
        "print(random.best_params_)\n",
        "print(random.best_score_)"
      ]
    },
    {
      "cell_type": "code",
      "source": [
        "grid = GridSearchCV(XGBClassifier(), param_grid=param_grid, refit=True)\n",
        "grid.fit(X_train, y_train)\n",
        "print(grid.best_params_)\n",
        "print(grid.best_score_)"
      ],
      "metadata": {
        "id": "UU9sTuxw-zcS",
        "outputId": "70b28190-c19d-4f04-b080-64ac973a993e",
        "colab": {
          "base_uri": "https://localhost:8080/"
        }
      },
      "execution_count": 13,
      "outputs": [
        {
          "output_type": "stream",
          "name": "stdout",
          "text": [
            "{'colsample_bytree': 0.5, 'gamma': 1, 'learning_rate': 0.1, 'max_depth': 3, 'min_child_weight': 5, 'n_estimators': 100, 'subsample': 0.8}\n",
            "0.976497948016416\n"
          ]
        }
      ]
    }
  ],
  "metadata": {
    "kernelspec": {
      "display_name": "Python 3",
      "language": "python",
      "name": "python3"
    },
    "language_info": {
      "codemirror_mode": {
        "name": "ipython",
        "version": 3
      },
      "file_extension": ".py",
      "mimetype": "text/x-python",
      "name": "python",
      "nbconvert_exporter": "python",
      "pygments_lexer": "ipython3",
      "version": "3.7.3"
    },
    "colab": {
      "name": "Z10_I_RandomizedSearch.ipynb",
      "provenance": []
    }
  },
  "nbformat": 4,
  "nbformat_minor": 0
}