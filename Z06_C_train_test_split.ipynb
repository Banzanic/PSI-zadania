{
  "cells": [
    {
      "cell_type": "markdown",
      "metadata": {
        "id": "rcwEMzf6HLHE"
      },
      "source": [
        "# Train test split\n"
      ]
    },
    {
      "cell_type": "code",
      "execution_count": 1,
      "metadata": {
        "collapsed": true,
        "id": "F2jRDqA_HLHF"
      },
      "outputs": [],
      "source": [
        "import numpy as np\n",
        "import pandas as pd\n",
        "import scipy.stats as stats\n",
        "import sklearn.linear_model as lm\n",
        "from sklearn import datasets, linear_model\n",
        "import matplotlib.pyplot as plt\n",
        "\n",
        "from sklearn.preprocessing import PolynomialFeatures\n",
        "from sklearn.pipeline import make_pipeline\n",
        "\n",
        "from sklearn import  metrics"
      ]
    },
    {
      "cell_type": "markdown",
      "metadata": {
        "id": "RXE2yy_kHLHG"
      },
      "source": [
        "Rozważmy następujący zbiór punktów:"
      ]
    },
    {
      "cell_type": "code",
      "execution_count": 2,
      "metadata": {
        "id": "QEhGt-THHLHH",
        "outputId": "fe65b6ad-33c7-46d1-a1e4-054f8686a612",
        "colab": {
          "base_uri": "https://localhost:8080/",
          "height": 264
        }
      },
      "outputs": [
        {
          "output_type": "display_data",
          "data": {
            "text/plain": [
              "<Figure size 432x288 with 1 Axes>"
            ],
            "image/png": "[encoded data removed]"
          },
          "metadata": {
            "needs_background": "light"
          }
        }
      ],
      "source": [
        "x = stats.uniform(0,3).rvs(100)\n",
        "f = lambda x: ((x*2-1)*(x**2-2)*(x-2)+3)\n",
        "y = f(x) + stats.norm(0,0.3).rvs(len(x))\n",
        "plt.plot(x, y, 'ok', ms=10);\n",
        "plt.show()"
      ]
    },
    {
      "cell_type": "markdown",
      "metadata": {
        "id": "7UasuzKdHLHI"
      },
      "source": [
        "# Przykład\n",
        "Podziel zbiór danych na część testową i treningową. \n",
        "Naucz model na części treningowej i ocen wyniki na części testowej."
      ]
    },
    {
      "cell_type": "code",
      "execution_count": 3,
      "metadata": {
        "id": "1730jaYQHLHI",
        "outputId": "160f25e2-2082-4895-8442-779534a12364",
        "colab": {
          "base_uri": "https://localhost:8080/"
        }
      },
      "outputs": [
        {
          "output_type": "stream",
          "name": "stdout",
          "text": [
            "(60,) (60,)\n",
            "(40,) (40,)\n"
          ]
        }
      ],
      "source": [
        "from sklearn.model_selection import train_test_split\n",
        "X_train, X_test, y_train, y_test = train_test_split(x, y, test_size=0.4, random_state=0)\n",
        "\n",
        "print(X_train.shape, y_train.shape)\n",
        "print(X_test.shape, y_test.shape)"
      ]
    },
    {
      "cell_type": "code",
      "execution_count": 4,
      "metadata": {
        "collapsed": true,
        "id": "k9GhsJeCHLHJ"
      },
      "outputs": [],
      "source": [
        "X_train=np.vstack(X_train)\n",
        "X_test=np.vstack(X_test)"
      ]
    },
    {
      "cell_type": "code",
      "execution_count": 5,
      "metadata": {
        "id": "bM9QCX3DHLHJ",
        "outputId": "f1809186-b0ef-4ccf-ad7c-dcef69656459",
        "colab": {
          "base_uri": "https://localhost:8080/"
        }
      },
      "outputs": [
        {
          "output_type": "execute_result",
          "data": {
            "text/plain": [
              "array([ 5.25177394e-01,  1.14597377e+01,  1.56570641e-01, -1.51792992e-01,\n",
              "        1.00461940e+01,  1.17702183e+00,  1.04812169e+01, -1.37243978e-01,\n",
              "        1.53215178e+01,  3.00559645e+00,  2.79453430e+00,  1.60730067e+01,\n",
              "        1.38552984e-01, -1.05936926e-02, -1.59520437e-01,  9.93430824e-01,\n",
              "        3.77509804e+00,  4.39094089e+00,  1.57447506e+01,  1.88660219e+01,\n",
              "        2.41586012e-01,  2.70774355e+01,  5.93865301e+00,  1.41682726e+01,\n",
              "        6.60947062e+00,  6.29588396e+00,  6.60206218e-01,  5.42561104e+00,\n",
              "       -1.67629161e-01,  2.18062180e+01,  1.17888199e+00,  8.51878656e+00,\n",
              "        8.01919626e+00,  1.32567414e+01,  1.02528015e+00,  2.73456851e+00,\n",
              "        7.61445823e+00,  2.44493189e+01,  3.39611436e+00,  6.44481124e+00])"
            ]
          },
          "metadata": {},
          "execution_count": 5
        }
      ],
      "source": [
        "model2 = make_pipeline(PolynomialFeatures(2), linear_model.LinearRegression())\n",
        "model2.fit(X_train, y_train)\n",
        "model2.predict(X_test)"
      ]
    },
    {
      "cell_type": "code",
      "execution_count": 6,
      "metadata": {
        "id": "enu_8CmqHLHK",
        "outputId": "ab16d5ed-33ab-466b-bc81-048a1b5b9342",
        "colab": {
          "base_uri": "https://localhost:8080/"
        }
      },
      "outputs": [
        {
          "output_type": "stream",
          "name": "stdout",
          "text": [
            "Explained variance score: 0.5701927506771554\n",
            "Explained variance score: 0.5701927506771554\n",
            "Median absolute error: 3.6916245728101034\n",
            "Mean squared error: 17.91553027216998\n",
            "Mean absolute errors: 3.8181128552368433\n"
          ]
        }
      ],
      "source": [
        "print(\"Explained variance score: {}\".format( metrics.explained_variance_score(y_test, model2.predict(X_test)) ))\n",
        "print(\"Explained variance score: {}\".format( metrics.explained_variance_score(y_test, model2.predict(X_test)) ))\n",
        "print(\"Median absolute error: {}\".format( metrics.median_absolute_error(y_test, model2.predict(X_test)) ))\n",
        "print(\"Mean squared error: {}\".format( metrics.mean_squared_error(y_test, model2.predict(X_test)) ))\n",
        "print(\"Mean absolute errors: {}\".format(metrics.mean_absolute_error(y_test, model2.predict(X_test)) ))"
      ]
    },
    {
      "cell_type": "markdown",
      "metadata": {
        "id": "hr7_MF-4HLHK"
      },
      "source": [
        "# Zadanie\n",
        "Wylicz powyższe miary na zbiorze testowym dla wszystkich modeli nauczonych na trainie:\n",
        "\n",
        "- regrsji linowej\n",
        "- regrsji wielomianowej stopnia 2\n",
        "- regrsji wielomianowej stopnia 3\n",
        "- regrsji wielomianowej stopnia 4\n",
        "- regrsji wielomianowej stopnia 5\n",
        "- regrsji wielomianowej stopnia 25"
      ]
    },
    {
      "cell_type": "code",
      "execution_count": 7,
      "metadata": {
        "collapsed": true,
        "id": "vxT2RT8pHLHL",
        "outputId": "1588903a-d5a2-4268-b44e-59e8b4d3b22e",
        "colab": {
          "base_uri": "https://localhost:8080/"
        }
      },
      "outputs": [
        {
          "output_type": "stream",
          "name": "stdout",
          "text": [
            "degree 1\n",
            "Explained variance score: 0.5701927506771554\n",
            "Median absolute error: 3.6916245728101034\n",
            "Mean squared error: 17.91553027216998\n",
            "Mean absolute errors: 3.8181128552368433\n",
            "degree 2\n",
            "Explained variance score: 0.5701927506771554\n",
            "Median absolute error: 3.6916245728101034\n",
            "Mean squared error: 17.91553027216998\n",
            "Mean absolute errors: 3.8181128552368433\n",
            "degree 3\n",
            "Explained variance score: 0.5701927506771554\n",
            "Median absolute error: 3.6916245728101034\n",
            "Mean squared error: 17.91553027216998\n",
            "Mean absolute errors: 3.8181128552368433\n",
            "degree 4\n",
            "Explained variance score: 0.5701927506771554\n",
            "Median absolute error: 3.6916245728101034\n",
            "Mean squared error: 17.91553027216998\n",
            "Mean absolute errors: 3.8181128552368433\n",
            "degree 5\n",
            "Explained variance score: 0.5701927506771554\n",
            "Median absolute error: 3.6916245728101034\n",
            "Mean squared error: 17.91553027216998\n",
            "Mean absolute errors: 3.8181128552368433\n",
            "degree 25\n",
            "Explained variance score: 0.5701927506771554\n",
            "Median absolute error: 3.6916245728101034\n",
            "Mean squared error: 17.91553027216998\n",
            "Mean absolute errors: 3.8181128552368433\n"
          ]
        }
      ],
      "source": [
        "degrees = [1, 2, 3, 4, 5, 25]\n",
        "for i in degrees:\n",
        "  model = make_pipeline(PolynomialFeatures(i), lm.LinearRegression())\n",
        "  model.fit(X_train, y_train)\n",
        "  print(\"degree\", i)\n",
        "  print(\"Explained variance score: {}\".format( metrics.explained_variance_score(y_test, model2.predict(X_test)) ))\n",
        "  print(\"Median absolute error: {}\".format( metrics.median_absolute_error(y_test, model2.predict(X_test)) ))\n",
        "  print(\"Mean squared error: {}\".format( metrics.mean_squared_error(y_test, model2.predict(X_test)) ))\n",
        "  print(\"Mean absolute errors: {}\".format(metrics.mean_absolute_error(y_test, model2.predict(X_test)) ))"
      ]
    }
  ],
  "metadata": {
    "kernelspec": {
      "display_name": "Python 3",
      "language": "python",
      "name": "python3"
    },
    "language_info": {
      "codemirror_mode": {
        "name": "ipython",
        "version": 3
      },
      "file_extension": ".py",
      "mimetype": "text/x-python",
      "name": "python",
      "nbconvert_exporter": "python",
      "pygments_lexer": "ipython3",
      "version": "3.8.5"
    },
    "colab": {
      "name": "Z06_C_train_test_split.ipynb",
      "provenance": []
    }
  },
  "nbformat": 4,
  "nbformat_minor": 0
}