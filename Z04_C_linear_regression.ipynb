{
  "cells": [
    {
      "cell_type": "markdown",
      "metadata": {
        "id": "4U_8gfGQPw3d"
      },
      "source": [
        "# Regresja liniowa\n",
        "\n",
        "Naszym Celem jest empityczne sprawdzenie twierdzenia:\n",
        "\n",
        "Niech $A \\in \\mathbb{R}^{N\\times K}$ będzie macierzą która przekształca $\\mathbb{R}^{K}$ w $\\mathbb{R}^N$, i niech $y \\in \\mathbb{R}^{K}$.\n",
        "\n",
        "Wtedy punkt $x_0 \\in \\mathbb{R}^K$ spełnia\n",
        "\n",
        "$$\n",
        "x_0 = \\mathrm{argmin} \\{ x \\in \\mathbb{R}^K   \\colon \\| Ax - y \\|^2 \\}\n",
        "$$\n",
        "\n",
        "wtedy i tylko wtedy gdy\n",
        "\n",
        "$$\n",
        "A^TA x_0 = A^Ty.\n",
        "$$\n"
      ]
    },
    {
      "cell_type": "code",
      "execution_count": 94,
      "metadata": {
        "collapsed": true,
        "id": "jK8Uv69OPw3e"
      },
      "outputs": [],
      "source": [
        "import numpy as np\n",
        "import scipy.stats as st\n",
        "import sklearn.linear_model as lm\n",
        "import matplotlib.pyplot as plt"
      ]
    },
    {
      "cell_type": "markdown",
      "metadata": {
        "id": "w0IOWmfxPw3e"
      },
      "source": [
        "Proszę wykres funkcji w kształcie \n",
        "\n",
        "$\n",
        "f(x)=x^2\n",
        "$ \n",
        "\n",
        "na odcinku $[0,3]$ i go narysować.\n",
        "\n",
        "Będzie to model, który będziemy chcieli znaleźć."
      ]
    },
    {
      "cell_type": "code",
      "execution_count": 95,
      "metadata": {
        "id": "dJ02SNEBPw3f",
        "outputId": "5f38fc1c-2427-4d2d-92d9-0442513496dc",
        "colab": {
          "base_uri": "https://localhost:8080/",
          "height": 378
        }
      },
      "outputs": [
        {
          "output_type": "display_data",
          "data": {
            "text/plain": [
              "<Figure size 432x432 with 1 Axes>"
            ],
            "image/png": "[encoded data removed]"
          },
          "metadata": {
            "needs_background": "light"
          }
        }
      ],
      "source": [
        "f = lambda x: (x**2)\n",
        "x_tr = np.linspace(0., 3, 200)\n",
        "y_tr = f(x_tr)\n",
        "plt.figure(figsize=(6,6));\n",
        "axes = plt.gca()\n",
        "axes.set_xlim([0,3])\n",
        "axes.set_ylim([0,8])\n",
        "plt.plot(x_tr[:200], y_tr[:200], '--k');\n",
        "plt.show()"
      ]
    },
    {
      "cell_type": "markdown",
      "metadata": {
        "id": "k31wLVwFPw3f"
      },
      "source": [
        "Proszę wylosować kilka punktów z otoczenia funkcji $f(x)=x^2$.\n",
        "\n",
        "Na ich podstawie będziemy wykonywać naszej presykcji."
      ]
    },
    {
      "cell_type": "code",
      "execution_count": 96,
      "metadata": {
        "id": "_RcVw7f8Pw3g",
        "outputId": "24abc54c-26b8-433e-e9ab-c44f86c575ae",
        "colab": {
          "base_uri": "https://localhost:8080/",
          "height": 378
        }
      },
      "outputs": [
        {
          "output_type": "display_data",
          "data": {
            "text/plain": [
              "<Figure size 432x432 with 1 Axes>"
            ],
            "image/png": "[encoded data removed]"
          },
          "metadata": {
            "needs_background": "light"
          }
        }
      ],
      "source": [
        "x = np.array([.2, .5, .8, .9, 1.3, 1.7, 2.1, 2.7])\n",
        "y = f(x) + np.random.randn(len(x))\n",
        "plt.figure(figsize=(6,6));\n",
        "axes = plt.gca()\n",
        "axes.set_xlim([0,3])\n",
        "axes.set_ylim([0,8])\n",
        "plt.plot(x_tr, y_tr, '--k');\n",
        "plt.plot(x, y, 'ok', ms=10);\n",
        "plt.show()"
      ]
    },
    {
      "cell_type": "markdown",
      "metadata": {
        "id": "5aiBZx3kPw3g"
      },
      "source": [
        "Nauczmy prosty model regresji liniowej\n",
        "\n",
        "$$\n",
        "y=a\\cdot x + b\n",
        "$$\n",
        "\n",
        "na naszych danych.\n",
        "\n",
        "Oraz narysujmy prostą regresji."
      ]
    },
    {
      "cell_type": "code",
      "execution_count": 97,
      "metadata": {
        "id": "VozDVUoBPw3g",
        "outputId": "3578250b-1885-4cc4-bb38-22a56d597251",
        "colab": {
          "base_uri": "https://localhost:8080/"
        }
      },
      "outputs": [
        {
          "output_type": "stream",
          "name": "stdout",
          "text": [
            "[2.92778833]\n",
            "-1.8621436154865594\n"
          ]
        }
      ],
      "source": [
        "# We create the model.\n",
        "lr = lm.LinearRegression()\n",
        "# We train the model on our training dataset.\n",
        "lr.fit(x[:, np.newaxis], y);\n",
        "print(lr.coef_)\n",
        "print(lr.intercept_)"
      ]
    },
    {
      "cell_type": "markdown",
      "metadata": {
        "id": "WKgrd-7NPw3g"
      },
      "source": [
        "Definiujemy naszą funkcję regresji"
      ]
    },
    {
      "cell_type": "code",
      "execution_count": 98,
      "metadata": {
        "collapsed": true,
        "id": "9qcPWvjdPw3g"
      },
      "outputs": [],
      "source": [
        "f_lr = lambda x: lr.coef_ * x +lr.intercept_"
      ]
    },
    {
      "cell_type": "code",
      "execution_count": 99,
      "metadata": {
        "id": "mB_eIN_FPw3h",
        "outputId": "81b53ca7-4d37-4427-a1c6-7c025c2fb79f",
        "colab": {
          "base_uri": "https://localhost:8080/",
          "height": 378
        }
      },
      "outputs": [
        {
          "output_type": "display_data",
          "data": {
            "text/plain": [
              "<Figure size 432x432 with 1 Axes>"
            ],
            "image/png": "[encoded data removed]"
          },
          "metadata": {
            "needs_background": "light"
          }
        }
      ],
      "source": [
        "x_f_lr = np.linspace(0., 3, 200)\n",
        "y_f_lr = f_lr(x_tr)\n",
        "plt.figure(figsize=(6,6));\n",
        "axes = plt.gca()\n",
        "axes.set_xlim([0,3])\n",
        "axes.set_ylim([0,8])\n",
        "plt.plot(x_tr, y_tr, '--k');\n",
        "plt.plot(x_f_lr, y_f_lr, 'g');\n",
        "plt.plot(x, y, 'ok', ms=10);\n",
        "plt.show()"
      ]
    },
    {
      "cell_type": "markdown",
      "metadata": {
        "id": "utI9wcGPPw3h"
      },
      "source": [
        "Teraz możemy wykonać predykcję dla punktu \n",
        "$$\n",
        "x_0 = 1.5\n",
        "$$"
      ]
    },
    {
      "cell_type": "code",
      "execution_count": 100,
      "metadata": {
        "collapsed": true,
        "id": "kVHhRqhKPw3h"
      },
      "outputs": [],
      "source": [
        "point = np.array([1.5])\n",
        "y_point = lr.predict(point[:, np.newaxis])"
      ]
    },
    {
      "cell_type": "code",
      "execution_count": 101,
      "metadata": {
        "id": "istOHghlPw3h",
        "outputId": "d6586d23-5181-4616-a2d0-d5e038c6492b",
        "colab": {
          "base_uri": "https://localhost:8080/",
          "height": 378
        }
      },
      "outputs": [
        {
          "output_type": "display_data",
          "data": {
            "text/plain": [
              "<Figure size 432x432 with 1 Axes>"
            ],
            "image/png": "[encoded data removed]"
          },
          "metadata": {
            "needs_background": "light"
          }
        }
      ],
      "source": [
        "plt.figure(figsize=(6,6));\n",
        "axes = plt.gca()\n",
        "axes.set_xlim([0,3])\n",
        "axes.set_ylim([0,8])\n",
        "plt.plot(x_tr, y_tr, '--k');\n",
        "plt.plot(x_f_lr, y_f_lr, 'g');\n",
        "plt.plot(x, y, 'ok', ms=10);\n",
        "plt.plot(point, y_point, 'or', ms=10);\n",
        "plt.show()"
      ]
    },
    {
      "cell_type": "markdown",
      "metadata": {
        "id": "CGfLQtYxPw3h"
      },
      "source": [
        "Możemy wypisać miarę dopasowania $R^2$. Narazie nie wnikamy w to co ona oznacza."
      ]
    },
    {
      "cell_type": "code",
      "execution_count": 102,
      "metadata": {
        "id": "4yYQnDigPw3i",
        "outputId": "a19633f7-efa1-40f0-bc0c-2d0b74319174",
        "colab": {
          "base_uri": "https://localhost:8080/"
        }
      },
      "outputs": [
        {
          "output_type": "stream",
          "name": "stdout",
          "text": [
            "0.9102187667895725\n",
            "0.9013630167974953\n"
          ]
        }
      ],
      "source": [
        "from sklearn.metrics import r2_score\n",
        "print(lr.score(x[:, np.newaxis], y))\n",
        "print(r2_score(lr.predict(x[:, np.newaxis]), y))"
      ]
    },
    {
      "cell_type": "markdown",
      "metadata": {
        "id": "BhmjVl-YPw3i"
      },
      "source": [
        "# Zadanie 1\n",
        "Stwórz macierz postaci:\n",
        "$$\n",
        "A=\\begin{bmatrix}\n",
        "x_1 & 1\\\\\n",
        "\\ddots & \\ddots\\\\\n",
        "x_n & 1\\\\\n",
        "\\end{bmatrix}\n",
        "$$\n",
        "\n",
        "i rozwiąż równanie\n",
        "\n",
        "$$\n",
        "A^TA x = A^Ty.\n",
        "$$\n",
        "\n",
        "gdzie (x,y) to nasz zbiór treningowy. \n",
        "\n",
        "Użyj funkcji <tt>linalg.solve</tt>."
      ]
    },
    {
      "cell_type": "code",
      "execution_count": 103,
      "metadata": {
        "id": "KCAWnVr6Pw3i",
        "outputId": "ae152ee8-fb8b-45f3-f0fa-3d304bb90ef0",
        "colab": {
          "base_uri": "https://localhost:8080/"
        }
      },
      "outputs": [
        {
          "output_type": "execute_result",
          "data": {
            "text/plain": [
              "array([[0.2, 1. ],\n",
              "       [0.5, 1. ],\n",
              "       [0.8, 1. ],\n",
              "       [0.9, 1. ],\n",
              "       [1.3, 1. ],\n",
              "       [1.7, 1. ],\n",
              "       [2.1, 1. ],\n",
              "       [2.7, 1. ]])"
            ]
          },
          "metadata": {},
          "execution_count": 103
        }
      ],
      "source": [
        "deg=1\n",
        "xx=np.vander(x, deg + 1)\n",
        "xx"
      ]
    },
    {
      "cell_type": "code",
      "execution_count": 104,
      "metadata": {
        "collapsed": true,
        "id": "72-z9BwEPw3i",
        "outputId": "ecd11b73-4baf-4732-c473-dbba2cad719d",
        "colab": {
          "base_uri": "https://localhost:8080/"
        }
      },
      "outputs": [
        {
          "output_type": "execute_result",
          "data": {
            "text/plain": [
              "array([ 2.92778833, -1.86214362])"
            ]
          },
          "metadata": {},
          "execution_count": 104
        }
      ],
      "source": [
        "np.linalg.solve(xx.T @ xx, xx.T @ y)"
      ]
    },
    {
      "cell_type": "markdown",
      "metadata": {
        "id": "8dYNFlS4Pw3j"
      },
      "source": [
        "# Zadanie 2\n",
        "Zapoznaj się z funkcją <tt>optimize.fmin_cg</tt>\n",
        "https://docs.scipy.org/doc/scipy-0.19.0/reference/generated/scipy.optimize.fmin_cg.html\n",
        "i znajdż minum funkcji\n",
        "\n",
        "$$\n",
        "f(x,y) = (x+1)^2+y^2\n",
        "$$"
      ]
    },
    {
      "cell_type": "code",
      "execution_count": 105,
      "metadata": {
        "collapsed": true,
        "id": "5rb38BGXPw3j",
        "outputId": "eb8af9e3-0025-47ce-d004-d3c351a7ae4a",
        "colab": {
          "base_uri": "https://localhost:8080/"
        }
      },
      "outputs": [
        {
          "output_type": "stream",
          "name": "stdout",
          "text": [
            "Optimization terminated successfully.\n",
            "         Current function value: 0.000000\n",
            "         Iterations: 3\n",
            "         Function evaluations: 36\n",
            "         Gradient evaluations: 9\n"
          ]
        },
        {
          "output_type": "execute_result",
          "data": {
            "text/plain": [
              "array([-9.99999996e-01,  3.67567063e-09])"
            ]
          },
          "metadata": {},
          "execution_count": 105
        }
      ],
      "source": [
        "from scipy import optimize\n",
        "def f(pair):\n",
        "    x,y = pair\n",
        "    return (x+1)**2 + y**2\n",
        "optimize.fmin_cg(f, x0=[(100,100)])"
      ]
    },
    {
      "cell_type": "markdown",
      "metadata": {
        "id": "t5DhPrqIPw3j"
      },
      "source": [
        "# Zadanie 3\n",
        "Zdafiniuj funkcję opisującą błąd kwadratowy:\n",
        "\n",
        "$$\n",
        "\\mathrm{compute\\_error}(a,b;(x,y)) =  \\sum_{i=1}^{n} ( y_i - (ax_i+b) )^2.\n",
        "$$"
      ]
    },
    {
      "cell_type": "code",
      "execution_count": 106,
      "metadata": {
        "collapsed": true,
        "id": "1-hEwiH_Pw3j"
      },
      "outputs": [],
      "source": [
        "import numpy as np\n",
        "def compute_error(ab, xy):\n",
        "    a, b = ab\n",
        "    x, y = xy\n",
        "    return sum([(yi - (a*xi + b))**2 for xi, yi in zip(x, y)])"
      ]
    },
    {
      "cell_type": "markdown",
      "metadata": {
        "id": "rdmqg7abPw3j"
      },
      "source": [
        "# Zadanie 4\n",
        "Zminimalizuj funkcją $\\mathrm{compute\\_error}$ po parametrach $a,b$ (numerycznie).\n",
        "\n",
        "Czy wyniki są podobne do wyników z poprzednich zadań?"
      ]
    },
    {
      "cell_type": "code",
      "execution_count": 107,
      "metadata": {
        "collapsed": true,
        "id": "dUxImvMdPw3j",
        "outputId": "a87fa0f4-231b-435c-b728-09cd61fac169",
        "colab": {
          "base_uri": "https://localhost:8080/"
        }
      },
      "outputs": [
        {
          "output_type": "stream",
          "name": "stdout",
          "text": [
            "Optimization terminated successfully.\n",
            "         Current function value: 4.240236\n",
            "         Iterations: 7\n",
            "         Function evaluations: 56\n",
            "         Gradient evaluations: 14\n"
          ]
        },
        {
          "output_type": "execute_result",
          "data": {
            "text/plain": [
              "array([ 2.92778833, -1.86214361])"
            ]
          },
          "metadata": {},
          "execution_count": 107
        }
      ],
      "source": [
        "from functools import partial\n",
        "fun = partial(compute_error, xy=(x,y))\n",
        "optimize.fmin_cg(fun, x0=(0, 1))"
      ]
    },
    {
      "cell_type": "markdown",
      "metadata": {
        "id": "LjbUwIyEPw3j"
      },
      "source": [
        "# Zadanie 5\n",
        "Zdafiniuj funkcję opisującą błąd kwadratowy:\n",
        "\n",
        "$$\n",
        "\\mathrm{compute\\_error\\_1}(a,b;(x,y)) =  \\sum_{i=1}^{n} |y_i - (ax_i+b)|.\n",
        "$$"
      ]
    },
    {
      "cell_type": "code",
      "execution_count": 108,
      "metadata": {
        "collapsed": true,
        "id": "4JcyLJv0Pw3k"
      },
      "outputs": [],
      "source": [
        "def compute_error_1(ab, xy):\n",
        "    a, b = ab\n",
        "    x, y = xy\n",
        "    return sum([np.abs(yi - (a*xi + b)) for xi, yi in zip(x, y)])"
      ]
    },
    {
      "cell_type": "markdown",
      "metadata": {
        "id": "CaomZ8RZPw3k"
      },
      "source": [
        "# Zadanie 6\n",
        "Zminimalizuj funkcją $\\mathrm{compute\\_error\\_1}$ po parametrach $a,b$ (numerycznie).\n",
        "\n",
        "Czy wyniki są podobne do wyników z poprzednich zadań?"
      ]
    },
    {
      "cell_type": "code",
      "execution_count": 109,
      "metadata": {
        "collapsed": true,
        "id": "0V30EYmPPw3k",
        "outputId": "9efaa781-7059-4bf0-fbe6-f485dbe73d64",
        "colab": {
          "base_uri": "https://localhost:8080/"
        }
      },
      "outputs": [
        {
          "output_type": "stream",
          "name": "stdout",
          "text": [
            "Warning: Desired error not necessarily achieved due to precision loss.\n",
            "         Current function value: 4.848283\n",
            "         Iterations: 2\n",
            "         Function evaluations: 262\n",
            "         Gradient evaluations: 64\n"
          ]
        },
        {
          "output_type": "execute_result",
          "data": {
            "text/plain": [
              "array([ 2.91080808, -1.50962441])"
            ]
          },
          "metadata": {},
          "execution_count": 109
        }
      ],
      "source": [
        "fun = partial(compute_error_1, xy=(x,y))\n",
        "optimize.fmin_cg(fun, x0=(0, 1))"
      ]
    },
    {
      "cell_type": "markdown",
      "metadata": {
        "collapsed": true,
        "id": "eNcRqeuXPw3k"
      },
      "source": [
        "# Zadanie 7\n",
        "Wykonaj dwie powyższe regresję na danych z wartością odstającą.\n"
      ]
    },
    {
      "cell_type": "code",
      "execution_count": 110,
      "metadata": {
        "id": "YFanMOO_Pw3k",
        "outputId": "4948e165-0e9e-494d-f3fa-07c7a6769e13",
        "colab": {
          "base_uri": "https://localhost:8080/",
          "height": 378
        }
      },
      "outputs": [
        {
          "output_type": "display_data",
          "data": {
            "text/plain": [
              "<Figure size 432x432 with 1 Axes>"
            ],
            "image/png": "[encoded data removed]"
          },
          "metadata": {
            "needs_background": "light"
          }
        }
      ],
      "source": [
        "f = lambda x: (x)\n",
        "x_tr = np.linspace(0., 3, 200)\n",
        "y_tr = f(x_tr)\n",
        "x = np.array([.2, .5, .8, .9, 1.3, 1.7, 2.1, 2.7])\n",
        "y = f(x) + np.random.randn(len(x))/5\n",
        "y[1]=y[1]+10\n",
        "plt.figure(figsize=(6,6));\n",
        "axes = plt.gca()\n",
        "axes.set_xlim([0,3])\n",
        "axes.set_ylim([0,12])\n",
        "plt.plot(x_tr, y_tr, '--k');\n",
        "plt.plot(x, y, 'ok', ms=10);\n",
        "plt.show()"
      ]
    },
    {
      "cell_type": "code",
      "execution_count": 111,
      "metadata": {
        "collapsed": true,
        "id": "u3w8e-pfPw3k",
        "outputId": "819bc916-84f3-40e3-eaff-9666525b13fd",
        "colab": {
          "base_uri": "https://localhost:8080/"
        }
      },
      "outputs": [
        {
          "output_type": "stream",
          "name": "stdout",
          "text": [
            "[[ 0.2        -0.07770386]\n",
            " [ 0.5        10.26829306]\n",
            " [ 0.8         0.88917067]\n",
            " [ 0.9         1.02019191]\n",
            " [ 1.3         0.97135536]\n",
            " [ 1.7         1.61587127]\n",
            " [ 2.1         2.08973972]\n",
            " [ 2.7         2.95495184]]\n",
            "Optimization terminated successfully.\n",
            "         Current function value: 74.435771\n",
            "         Iterations: 5\n",
            "         Function evaluations: 40\n",
            "         Gradient evaluations: 10\n",
            "Warning: Desired error not necessarily achieved due to precision loss.\n",
            "         Current function value: 11.005045\n",
            "         Iterations: 3\n",
            "         Function evaluations: 79\n",
            "         Gradient evaluations: 19\n",
            "[-0.40547421  2.98346335] [0.95265665 0.04384186]\n",
            "74.43577100482182 11.005045430929917\n",
            "Optimization terminated successfully.\n",
            "         Current function value: 74.435771\n",
            "         Iterations: 3\n",
            "         Function evaluations: 28\n",
            "         Gradient evaluations: 7\n",
            "Warning: Desired error not necessarily achieved due to precision loss.\n",
            "         Current function value: 10.983225\n",
            "         Iterations: 8\n",
            "         Function evaluations: 552\n",
            "         Gradient evaluations: 135\n",
            "[-0.40547392  2.98346296] [ 1.1247003 -0.2721309]\n",
            "74.43577100482197 10.983225096206333\n",
            "Optimization terminated successfully.\n",
            "         Current function value: 74.435771\n",
            "         Iterations: 5\n",
            "         Function evaluations: 40\n",
            "         Gradient evaluations: 10\n",
            "Warning: Desired error not necessarily achieved due to precision loss.\n",
            "         Current function value: 10.909824\n",
            "         Iterations: 5\n",
            "         Function evaluations: 589\n",
            "         Gradient evaluations: 144\n",
            "[-0.40547408  2.98346311] [0.94119798 0.11322396]\n",
            "74.43577100482183 10.909824168868047\n",
            "Optimization terminated successfully.\n",
            "         Current function value: 74.435771\n",
            "         Iterations: 4\n",
            "         Function evaluations: 32\n",
            "         Gradient evaluations: 8\n",
            "Warning: Desired error not necessarily achieved due to precision loss.\n",
            "         Current function value: 11.393520\n",
            "         Iterations: 2\n",
            "         Function evaluations: 73\n",
            "         Gradient evaluations: 17\n",
            "[-0.40547393  2.98346323] [0.71903201 0.37758328]\n",
            "74.43577100482233 11.39352019765004\n",
            "Optimization terminated successfully.\n",
            "         Current function value: 74.435771\n",
            "         Iterations: 2\n",
            "         Function evaluations: 24\n",
            "         Gradient evaluations: 6\n",
            "Warning: Desired error not necessarily achieved due to precision loss.\n",
            "         Current function value: 10.960940\n",
            "         Iterations: 4\n",
            "         Function evaluations: 400\n",
            "         Gradient evaluations: 99\n",
            "[-0.40547409  2.9834632 ] [ 1.06898821 -0.06632028]\n",
            "74.43577100482176 10.960940253240741\n",
            "Optimization terminated successfully.\n",
            "         Current function value: 74.435771\n",
            "         Iterations: 3\n",
            "         Function evaluations: 24\n",
            "         Gradient evaluations: 6\n",
            "Warning: Desired error not necessarily achieved due to precision loss.\n",
            "         Current function value: 12.323339\n",
            "         Iterations: 2\n",
            "         Function evaluations: 95\n",
            "         Gradient evaluations: 23\n",
            "[-0.40547446  2.98346405] [0.47434284 0.69132293]\n",
            "74.43577100482345 12.32333902253413\n",
            "Optimization terminated successfully.\n",
            "         Current function value: 74.435771\n",
            "         Iterations: 2\n",
            "         Function evaluations: 20\n",
            "         Gradient evaluations: 5\n",
            "Warning: Desired error not necessarily achieved due to precision loss.\n",
            "         Current function value: 10.925834\n",
            "         Iterations: 3\n",
            "         Function evaluations: 105\n",
            "         Gradient evaluations: 25\n",
            "[-0.40547428  2.98346321] [0.97517243 0.0406674 ]\n",
            "74.43577100482237 10.92583439939633\n",
            "Optimization terminated successfully.\n",
            "         Current function value: 74.435771\n",
            "         Iterations: 2\n",
            "         Function evaluations: 20\n",
            "         Gradient evaluations: 5\n",
            "Warning: Desired error not necessarily achieved due to precision loss.\n",
            "         Current function value: 10.923666\n",
            "         Iterations: 5\n",
            "         Function evaluations: 560\n",
            "         Gradient evaluations: 137\n",
            "[-0.40547408  2.98346327] [0.97580248 0.04055452]\n",
            "74.4357710048218 10.923665966297467\n"
          ]
        }
      ],
      "source": [
        "points = np.column_stack((x,y))\n",
        "print(points)\n",
        "fun = partial(compute_error, xy=(x,y))\n",
        "fun1 = partial(compute_error_1, xy=(x,y))\n",
        "for (x,y) in [(0.2, 0.1751458), (0.5, 10.94554555), (0.8, 0.97242032), (0.9, 0.75789737), (1.3, 1.56536345), (1.7, 1.77111648), (2.1, 2.14434363), (2.7, 2.83385066)]:\n",
        "  res0 = optimize.fmin_cg(fun, x0=(x, y))\n",
        "  res1 = optimize.fmin_cg(fun1, x0=(x, y))\n",
        "  print(res0, res1)\n",
        "  print(fun(res0), fun1(res1))"
      ]
    }
  ],
  "metadata": {
    "kernelspec": {
      "display_name": "Python 3",
      "language": "python",
      "name": "python3"
    },
    "language_info": {
      "codemirror_mode": {
        "name": "ipython",
        "version": 3
      },
      "file_extension": ".py",
      "mimetype": "text/x-python",
      "name": "python",
      "nbconvert_exporter": "python",
      "pygments_lexer": "ipython3",
      "version": "3.8.5"
    },
    "colab": {
      "name": "Z04_C_linear_regression.ipynb",
      "provenance": []
    }
  },
  "nbformat": 4,
  "nbformat_minor": 0
}