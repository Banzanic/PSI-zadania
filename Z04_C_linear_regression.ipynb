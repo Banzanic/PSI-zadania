{
  "cells": [
    {
      "cell_type": "markdown",
      "metadata": {
        "id": "4U_8gfGQPw3d"
      },
      "source": [
        "# Regresja liniowa\n",
        "\n",
        "Naszym Celem jest empityczne sprawdzenie twierdzenia:\n",
        "\n",
        "Niech $A \\in \\mathbb{R}^{N\\times K}$ będzie macierzą która przekształca $\\mathbb{R}^{K}$ w $\\mathbb{R}^N$, i niech $y \\in \\mathbb{R}^{K}$.\n",
        "\n",
        "Wtedy punkt $x_0 \\in \\mathbb{R}^K$ spełnia\n",
        "\n",
        "$$\n",
        "x_0 = \\mathrm{argmin} \\{ x \\in \\mathbb{R}^K   \\colon \\| Ax - y \\|^2 \\}\n",
        "$$\n",
        "\n",
        "wtedy i tylko wtedy gdy\n",
        "\n",
        "$$\n",
        "A^TA x_0 = A^Ty.\n",
        "$$\n"
      ]
    },
    {
      "cell_type": "code",
      "execution_count": 161,
      "metadata": {
        "collapsed": true,
        "id": "jK8Uv69OPw3e"
      },
      "outputs": [],
      "source": [
        "import numpy as np\n",
        "import scipy.stats as st\n",
        "import sklearn.linear_model as lm\n",
        "import matplotlib.pyplot as plt"
      ]
    },
    {
      "cell_type": "markdown",
      "metadata": {
        "id": "w0IOWmfxPw3e"
      },
      "source": [
        "Proszę wykres funkcji w kształcie \n",
        "\n",
        "$\n",
        "f(x)=x^2\n",
        "$ \n",
        "\n",
        "na odcinku $[0,3]$ i go narysować.\n",
        "\n",
        "Będzie to model, który będziemy chcieli znaleźć."
      ]
    },
    {
      "cell_type": "code",
      "execution_count": 162,
      "metadata": {
        "colab": {
          "base_uri": "https://localhost:8080/",
          "height": 378
        },
        "id": "dJ02SNEBPw3f",
        "outputId": "8a8a0a99-5b7e-46a5-e143-75516502bcf6"
      },
      "outputs": [
        {
          "output_type": "display_data",
          "data": {
            "text/plain": [
              "<Figure size 432x432 with 1 Axes>"
            ],
            "image/png": "[encoded data removed]"
          },
          "metadata": {
            "needs_background": "light"
          }
        }
      ],
      "source": [
        "f = lambda x: (x**2)\n",
        "x_tr = np.linspace(0., 3, 200)\n",
        "y_tr = f(x_tr)\n",
        "plt.figure(figsize=(6,6));\n",
        "axes = plt.gca()\n",
        "axes.set_xlim([0,3])\n",
        "axes.set_ylim([0,8])\n",
        "plt.plot(x_tr[:200], y_tr[:200], '--k');\n",
        "plt.show()"
      ]
    },
    {
      "cell_type": "markdown",
      "metadata": {
        "id": "k31wLVwFPw3f"
      },
      "source": [
        "Proszę wylosować kilka punktów z otoczenia funkcji $f(x)=x^2$.\n",
        "\n",
        "Na ich podstawie będziemy wykonywać naszej presykcji."
      ]
    },
    {
      "cell_type": "code",
      "execution_count": 163,
      "metadata": {
        "colab": {
          "base_uri": "https://localhost:8080/",
          "height": 378
        },
        "id": "_RcVw7f8Pw3g",
        "outputId": "109522a2-afb6-4c90-ad91-5163bd7bf2d0"
      },
      "outputs": [
        {
          "output_type": "display_data",
          "data": {
            "text/plain": [
              "<Figure size 432x432 with 1 Axes>"
            ],
            "image/png": "[encoded data removed]"
          },
          "metadata": {
            "needs_background": "light"
          }
        }
      ],
      "source": [
        "x = np.array([.2, .5, .8, .9, 1.3, 1.7, 2.1, 2.7])\n",
        "y = f(x) + np.random.randn(len(x))\n",
        "plt.figure(figsize=(6,6));\n",
        "axes = plt.gca()\n",
        "axes.set_xlim([0,3])\n",
        "axes.set_ylim([0,8])\n",
        "plt.plot(x_tr, y_tr, '--k');\n",
        "plt.plot(x, y, 'ok', ms=10);\n",
        "plt.show()"
      ]
    },
    {
      "cell_type": "markdown",
      "metadata": {
        "id": "5aiBZx3kPw3g"
      },
      "source": [
        "Nauczmy prosty model regresji liniowej\n",
        "\n",
        "$$\n",
        "y=a\\cdot x + b\n",
        "$$\n",
        "\n",
        "na naszych danych.\n",
        "\n",
        "Oraz narysujmy prostą regresji."
      ]
    },
    {
      "cell_type": "code",
      "execution_count": 164,
      "metadata": {
        "colab": {
          "base_uri": "https://localhost:8080/"
        },
        "id": "VozDVUoBPw3g",
        "outputId": "8b068b83-8403-407d-c9c6-2626782b8a79"
      },
      "outputs": [
        {
          "output_type": "stream",
          "name": "stdout",
          "text": [
            "[1.9925512]\n",
            "-0.36159215764761976\n"
          ]
        }
      ],
      "source": [
        "# We create the model.\n",
        "lr = lm.LinearRegression()\n",
        "# We train the model on our training dataset.\n",
        "lr.fit(x[:, np.newaxis], y);\n",
        "print(lr.coef_)\n",
        "print(lr.intercept_)"
      ]
    },
    {
      "cell_type": "markdown",
      "metadata": {
        "id": "WKgrd-7NPw3g"
      },
      "source": [
        "Definiujemy naszą funkcję regresji"
      ]
    },
    {
      "cell_type": "code",
      "execution_count": 165,
      "metadata": {
        "collapsed": true,
        "id": "9qcPWvjdPw3g"
      },
      "outputs": [],
      "source": [
        "f_lr = lambda x: lr.coef_ * x +lr.intercept_"
      ]
    },
    {
      "cell_type": "code",
      "execution_count": 166,
      "metadata": {
        "colab": {
          "base_uri": "https://localhost:8080/",
          "height": 378
        },
        "id": "mB_eIN_FPw3h",
        "outputId": "3235831f-c99b-4a04-bbac-02fa6341164e"
      },
      "outputs": [
        {
          "output_type": "display_data",
          "data": {
            "text/plain": [
              "<Figure size 432x432 with 1 Axes>"
            ],
            "image/png": "[encoded data removed]"
          },
          "metadata": {
            "needs_background": "light"
          }
        }
      ],
      "source": [
        "x_f_lr = np.linspace(0., 3, 200)\n",
        "y_f_lr = f_lr(x_tr)\n",
        "plt.figure(figsize=(6,6));\n",
        "axes = plt.gca()\n",
        "axes.set_xlim([0,3])\n",
        "axes.set_ylim([0,8])\n",
        "plt.plot(x_tr, y_tr, '--k');\n",
        "plt.plot(x_f_lr, y_f_lr, 'g');\n",
        "plt.plot(x, y, 'ok', ms=10);\n",
        "plt.show()"
      ]
    },
    {
      "cell_type": "markdown",
      "metadata": {
        "id": "utI9wcGPPw3h"
      },
      "source": [
        "Teraz możemy wykonać predykcję dla punktu \n",
        "$$\n",
        "x_0 = 1.5\n",
        "$$"
      ]
    },
    {
      "cell_type": "code",
      "execution_count": 167,
      "metadata": {
        "collapsed": true,
        "id": "kVHhRqhKPw3h"
      },
      "outputs": [],
      "source": [
        "point = np.array([1.5])\n",
        "y_point = lr.predict(point[:, np.newaxis])"
      ]
    },
    {
      "cell_type": "code",
      "execution_count": 168,
      "metadata": {
        "colab": {
          "base_uri": "https://localhost:8080/",
          "height": 378
        },
        "id": "istOHghlPw3h",
        "outputId": "484f72d3-c9c1-4d6e-a789-1db48c0bb167"
      },
      "outputs": [
        {
          "output_type": "display_data",
          "data": {
            "text/plain": [
              "<Figure size 432x432 with 1 Axes>"
            ],
            "image/png": "[encoded data removed]"
          },
          "metadata": {
            "needs_background": "light"
          }
        }
      ],
      "source": [
        "plt.figure(figsize=(6,6));\n",
        "axes = plt.gca()\n",
        "axes.set_xlim([0,3])\n",
        "axes.set_ylim([0,8])\n",
        "plt.plot(x_tr, y_tr, '--k');\n",
        "plt.plot(x_f_lr, y_f_lr, 'g');\n",
        "plt.plot(x, y, 'ok', ms=10);\n",
        "plt.plot(point, y_point, 'or', ms=10);\n",
        "plt.show()"
      ]
    },
    {
      "cell_type": "markdown",
      "metadata": {
        "id": "CGfLQtYxPw3h"
      },
      "source": [
        "Możemy wypisać miarę dopasowania $R^2$. Narazie nie wnikamy w to co ona oznacza."
      ]
    },
    {
      "cell_type": "code",
      "execution_count": 169,
      "metadata": {
        "colab": {
          "base_uri": "https://localhost:8080/"
        },
        "id": "4yYQnDigPw3i",
        "outputId": "419abff9-880d-4e85-acbc-5e95749ebd99"
      },
      "outputs": [
        {
          "output_type": "stream",
          "name": "stdout",
          "text": [
            "0.5992274270194573\n",
            "0.331184530431165\n"
          ]
        }
      ],
      "source": [
        "from sklearn.metrics import r2_score\n",
        "print(lr.score(x[:, np.newaxis], y))\n",
        "print(r2_score(lr.predict(x[:, np.newaxis]), y))"
      ]
    },
    {
      "cell_type": "markdown",
      "metadata": {
        "id": "BhmjVl-YPw3i"
      },
      "source": [
        "# Zadanie 1\n",
        "Stwórz macierz postaci:\n",
        "$$\n",
        "A=\\begin{bmatrix}\n",
        "x_1 & 1\\\\\n",
        "\\ddots & \\ddots\\\\\n",
        "x_n & 1\\\\\n",
        "\\end{bmatrix}\n",
        "$$\n",
        "\n",
        "i rozwiąż równanie\n",
        "\n",
        "$$\n",
        "A^TA x = A^Ty.\n",
        "$$\n",
        "\n",
        "gdzie (x,y) to nasz zbiór treningowy. \n",
        "\n",
        "Użyj funkcji <tt>linalg.solve</tt>."
      ]
    },
    {
      "cell_type": "code",
      "execution_count": 170,
      "metadata": {
        "colab": {
          "base_uri": "https://localhost:8080/"
        },
        "id": "KCAWnVr6Pw3i",
        "outputId": "91a9cf20-4851-4316-cd05-1f7ab175155d"
      },
      "outputs": [
        {
          "output_type": "execute_result",
          "data": {
            "text/plain": [
              "array([[0.2, 1. ],\n",
              "       [0.5, 1. ],\n",
              "       [0.8, 1. ],\n",
              "       [0.9, 1. ],\n",
              "       [1.3, 1. ],\n",
              "       [1.7, 1. ],\n",
              "       [2.1, 1. ],\n",
              "       [2.7, 1. ]])"
            ]
          },
          "metadata": {},
          "execution_count": 170
        }
      ],
      "source": [
        "deg=1\n",
        "xx=np.vander(x, deg + 1)\n",
        "xx"
      ]
    },
    {
      "cell_type": "code",
      "execution_count": 171,
      "metadata": {
        "collapsed": true,
        "colab": {
          "base_uri": "https://localhost:8080/"
        },
        "id": "72-z9BwEPw3i",
        "outputId": "69e58aab-f332-4309-ff0a-6909c1dd0faf"
      },
      "outputs": [
        {
          "output_type": "execute_result",
          "data": {
            "text/plain": [
              "array([ 1.9925512 , -0.36159216])"
            ]
          },
          "metadata": {},
          "execution_count": 171
        }
      ],
      "source": [
        "np.linalg.solve(xx.T @ xx, xx.T @ y)"
      ]
    },
    {
      "cell_type": "markdown",
      "metadata": {
        "id": "8dYNFlS4Pw3j"
      },
      "source": [
        "# Zadanie 2\n",
        "Zapoznaj się z funkcją <tt>optimize.fmin_cg</tt>\n",
        "https://docs.scipy.org/doc/scipy-0.19.0/reference/generated/scipy.optimize.fmin_cg.html\n",
        "i znajdż minum funkcji\n",
        "\n",
        "$$\n",
        "f(x,y) = (x+1)^2+y^2\n",
        "$$"
      ]
    },
    {
      "cell_type": "code",
      "execution_count": 172,
      "metadata": {
        "collapsed": true,
        "colab": {
          "base_uri": "https://localhost:8080/"
        },
        "id": "5rb38BGXPw3j",
        "outputId": "a4c9c442-ed53-4aca-f202-74d9fcbe3696"
      },
      "outputs": [
        {
          "output_type": "stream",
          "name": "stdout",
          "text": [
            "Optimization terminated successfully.\n",
            "         Current function value: 0.000000\n",
            "         Iterations: 3\n",
            "         Function evaluations: 36\n",
            "         Gradient evaluations: 9\n"
          ]
        },
        {
          "output_type": "execute_result",
          "data": {
            "text/plain": [
              "array([-9.99999996e-01,  3.67567063e-09])"
            ]
          },
          "metadata": {},
          "execution_count": 172
        }
      ],
      "source": [
        "from scipy import optimize\n",
        "def f(pair):\n",
        "    x,y = pair\n",
        "    return (x+1)**2 + y**2\n",
        "optimize.fmin_cg(f, x0=[(100,100)])"
      ]
    },
    {
      "cell_type": "markdown",
      "metadata": {
        "id": "t5DhPrqIPw3j"
      },
      "source": [
        "# Zadanie 3\n",
        "Zdafiniuj funkcję opisującą błąd kwadratowy:\n",
        "\n",
        "$$\n",
        "\\mathrm{compute\\_error}(a,b;(x,y)) =  \\sum_{i=1}^{n} ( y_i - (ax_i+b) )^2.\n",
        "$$"
      ]
    },
    {
      "cell_type": "code",
      "execution_count": 173,
      "metadata": {
        "collapsed": true,
        "id": "1-hEwiH_Pw3j"
      },
      "outputs": [],
      "source": [
        "import numpy as np\n",
        "def compute_error(ab, xy):\n",
        "    a, b = ab\n",
        "    x, y = xy\n",
        "    return sum([(yi - (a*xi + b))**2 for xi, yi in zip(x, y)])"
      ]
    },
    {
      "cell_type": "markdown",
      "metadata": {
        "id": "rdmqg7abPw3j"
      },
      "source": [
        "# Zadanie 4\n",
        "Zminimalizuj funkcją $\\mathrm{compute\\_error}$ po parametrach $a,b$ (numerycznie).\n",
        "\n",
        "Czy wyniki są podobne do wyników z poprzednich zadań?"
      ]
    },
    {
      "cell_type": "code",
      "execution_count": 174,
      "metadata": {
        "collapsed": true,
        "colab": {
          "base_uri": "https://localhost:8080/"
        },
        "id": "dUxImvMdPw3j",
        "outputId": "369f7df4-8b48-4a28-bec5-35cc14733c8c"
      },
      "outputs": [
        {
          "output_type": "stream",
          "name": "stdout",
          "text": [
            "Optimization terminated successfully.\n",
            "         Current function value: 13.316688\n",
            "         Iterations: 4\n",
            "         Function evaluations: 32\n",
            "         Gradient evaluations: 8\n"
          ]
        },
        {
          "output_type": "execute_result",
          "data": {
            "text/plain": [
              "array([ 1.99255119, -0.36159217])"
            ]
          },
          "metadata": {},
          "execution_count": 174
        }
      ],
      "source": [
        "from functools import partial\n",
        "fun = partial(compute_error, xy=(x,y))\n",
        "optimize.fmin_cg(fun, x0=(0, 1))"
      ]
    },
    {
      "cell_type": "markdown",
      "metadata": {
        "id": "LjbUwIyEPw3j"
      },
      "source": [
        "# Zadanie 5\n",
        "Zdafiniuj funkcję opisującą błąd kwadratowy:\n",
        "\n",
        "$$\n",
        "\\mathrm{compute\\_error\\_1}(a,b;(x,y)) =  \\sum_{i=1}^{n} |y_i - (ax_i+b)|.\n",
        "$$"
      ]
    },
    {
      "cell_type": "code",
      "execution_count": 175,
      "metadata": {
        "collapsed": true,
        "id": "4JcyLJv0Pw3k"
      },
      "outputs": [],
      "source": [
        "def compute_error_1(ab, xy):\n",
        "    a, b = ab\n",
        "    x, y = xy\n",
        "    return sum([np.abs(yi - (a*xi + b)) for xi, yi in zip(x, y)])"
      ]
    },
    {
      "cell_type": "markdown",
      "metadata": {
        "id": "CaomZ8RZPw3k"
      },
      "source": [
        "# Zadanie 6\n",
        "Zminimalizuj funkcją $\\mathrm{compute\\_error\\_1}$ po parametrach $a,b$ (numerycznie).\n",
        "\n",
        "Czy wyniki są podobne do wyników z poprzednich zadań?"
      ]
    },
    {
      "cell_type": "code",
      "execution_count": 176,
      "metadata": {
        "collapsed": true,
        "colab": {
          "base_uri": "https://localhost:8080/"
        },
        "id": "0V30EYmPPw3k",
        "outputId": "34a27239-2c39-4d62-b386-ba2f609b6486"
      },
      "outputs": [
        {
          "output_type": "stream",
          "name": "stdout",
          "text": [
            "Warning: Desired error not necessarily achieved due to precision loss.\n",
            "         Current function value: 8.759844\n",
            "         Iterations: 5\n",
            "         Function evaluations: 544\n",
            "         Gradient evaluations: 133\n"
          ]
        },
        {
          "output_type": "execute_result",
          "data": {
            "text/plain": [
              "array([ 1.81652116, -0.61432328])"
            ]
          },
          "metadata": {},
          "execution_count": 176
        }
      ],
      "source": [
        "fun = partial(compute_error_1, xy=(x,y))\n",
        "optimize.fmin_cg(fun, x0=(0, 1))"
      ]
    },
    {
      "cell_type": "markdown",
      "metadata": {
        "collapsed": true,
        "id": "eNcRqeuXPw3k"
      },
      "source": [
        "# Zadanie 7\n",
        "Wykonaj dwie powyższe regresję na danych z wartością odstającą.\n"
      ]
    },
    {
      "cell_type": "code",
      "execution_count": 177,
      "metadata": {
        "colab": {
          "base_uri": "https://localhost:8080/",
          "height": 378
        },
        "id": "YFanMOO_Pw3k",
        "outputId": "744a97ec-8040-4020-d901-915a820269f1"
      },
      "outputs": [
        {
          "output_type": "display_data",
          "data": {
            "text/plain": [
              "<Figure size 432x432 with 1 Axes>"
            ],
            "image/png": "[encoded data removed]"
          },
          "metadata": {
            "needs_background": "light"
          }
        }
      ],
      "source": [
        "f = lambda x: (x)\n",
        "x_tr = np.linspace(0., 3, 200)\n",
        "y_tr = f(x_tr)\n",
        "x = np.array([.2, .5, .8, .9, 1.3, 1.7, 2.1, 2.7])\n",
        "y = f(x) + np.random.randn(len(x))/5\n",
        "y[1]=y[1]+10\n",
        "plt.figure(figsize=(6,6));\n",
        "axes = plt.gca()\n",
        "axes.set_xlim([0,3])\n",
        "axes.set_ylim([0,12])\n",
        "plt.plot(x_tr, y_tr, '--k');\n",
        "plt.plot(x, y, 'ok', ms=10);\n",
        "plt.show()"
      ]
    },
    {
      "cell_type": "code",
      "execution_count": 178,
      "metadata": {
        "collapsed": true,
        "colab": {
          "base_uri": "https://localhost:8080/"
        },
        "id": "u3w8e-pfPw3k",
        "outputId": "c12d7772-ad5b-47cf-b74b-fe1fe38baa18"
      },
      "outputs": [
        {
          "output_type": "stream",
          "name": "stdout",
          "text": [
            "Optimization terminated successfully.\n",
            "         Current function value: 76.136189\n",
            "         Iterations: 7\n",
            "         Function evaluations: 76\n",
            "         Gradient evaluations: 19\n",
            "Warning: Desired error not necessarily achieved due to precision loss.\n",
            "         Current function value: 11.591777\n",
            "         Iterations: 3\n",
            "         Function evaluations: 282\n",
            "         Gradient evaluations: 69\n",
            "[-0.5370762   3.08729398] [0.7597796 0.2602231]\n",
            "15.060814967125067 11.591777020135368\n"
          ]
        }
      ],
      "source": [
        "fun0 = partial(compute_error, xy=(x,y))\n",
        "fun1 = partial(compute_error_1, xy=(x,y))\n",
        "res0 = optimize.fmin_cg(fun0, x0=(0, 0))\n",
        "res1 = optimize.fmin_cg(fun1, x0=(0, 0))\n",
        "print(res0, res1)\n",
        "print(fun(res0), fun1(res1))"
      ]
    },
    {
      "cell_type": "code",
      "source": [
        "def fun(a, b):\n",
        "    return lambda x: a*x + b\n",
        "f0 = fun(*res0)\n",
        "f1  = fun(*res1)\n",
        "x_tr = np.linspace(0., 3, 200)\n",
        "y_tr = f(x_tr)\n",
        "plt.figure(figsize=(6,6))\n",
        "axes = plt.gca()\n",
        "axes.set_xlim([0,3])\n",
        "axes.set_ylim([0,12])\n",
        "plt.plot(x_tr, y_tr, '--k')\n",
        "plt.plot(x, y, 'ok', ms=10);\n",
        "plt.plot(x_tr, f0(x_tr), color='blue', label='quad')\n",
        "plt.plot(x_tr, f1(x_tr), color='red', label='abs')\n",
        "plt.legend()\n",
        "plt.show()"
      ],
      "metadata": {
        "id": "usOczUFVYDjN",
        "outputId": "4465e06a-41a4-4774-91e6-5398ae821121",
        "colab": {
          "base_uri": "https://localhost:8080/",
          "height": 378
        }
      },
      "execution_count": 179,
      "outputs": [
        {
          "output_type": "display_data",
          "data": {
            "text/plain": [
              "<Figure size 432x432 with 1 Axes>"
            ],
            "image/png": "[encoded data removed]"
          },
          "metadata": {
            "needs_background": "light"
          }
        }
      ]
    }
  ],
  "metadata": {
    "kernelspec": {
      "display_name": "Python 3",
      "language": "python",
      "name": "python3"
    },
    "language_info": {
      "codemirror_mode": {
        "name": "ipython",
        "version": 3
      },
      "file_extension": ".py",
      "mimetype": "text/x-python",
      "name": "python",
      "nbconvert_exporter": "python",
      "pygments_lexer": "ipython3",
      "version": "3.8.5"
    },
    "colab": {
      "name": "Z04_C_linear_regression.ipynb",
      "provenance": []
    }
  },
  "nbformat": 4,
  "nbformat_minor": 0
}