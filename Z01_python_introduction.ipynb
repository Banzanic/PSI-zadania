{
  "cells": [
    {
      "cell_type": "markdown",
      "metadata": {
        "id": "cT4yvpjOAcYz"
      },
      "source": [
        "# Podstawowe operatory\n",
        "\n",
        " * \\+ – dodawanie: 4 + 7.5 daje 11.5;\n",
        " * \\- – odejmowanie: 30 - 24 daje 6;\n",
        " * \\* – mnożenie: 2 * 3 daje 6;\n",
        " * \\*\\* – potęgowanie: 3 ** 4 daje 81;\n",
        " * / – dzielenie: 4 / 3 daje 1;\n",
        " * // – dzielenie całkowite: 4 // 3.0 daje 1;\n",
        " * % – dzielenie modulo: 8 % 3 daje 2. "
      ]
    },
    {
      "cell_type": "markdown",
      "metadata": {
        "id": "6FayTJf8AcY0"
      },
      "source": [
        "# Operatory porównania:\n",
        "\n",
        " * < – mniejsze,\n",
        " * \\> – większe,\n",
        " * <= – mniejsze lub równe,\n",
        " * == – równe,\n",
        " * != – różne. "
      ]
    },
    {
      "cell_type": "markdown",
      "metadata": {
        "id": "FCVuGXlTAcY0"
      },
      "source": [
        "# 1. Warunki\n",
        "Python używa zmiennych logicznych w celu oceny warunków. \n",
        "Wartości logiczne prawda (True) i fałsz (False) są zwracane, gdy wyrażenie jest porównywane i oceniane. \n",
        "\n",
        "Na przykład:"
      ]
    },
    {
      "cell_type": "code",
      "execution_count": null,
      "metadata": {
        "id": "PsmL9PxNAcY1",
        "outputId": "0830008a-6f81-4e7e-ed8d-4daad6921b23"
      },
      "outputs": [
        {
          "name": "stdout",
          "output_type": "stream",
          "text": [
            "True\n",
            "False\n",
            "True\n"
          ]
        }
      ],
      "source": [
        "x = 2\n",
        "print(x == 2)\n",
        "print(x == 3)\n",
        "print(x < 3)"
      ]
    },
    {
      "cell_type": "markdown",
      "metadata": {
        "id": "8VtS0naaAcY2"
      },
      "source": [
        "# 1.1 Instrukcje Warunkowe\n",
        "Aby uzależnić wykonanie instrukcji od rezultatu porównania, używamy instrukcji warunkowej"
      ]
    },
    {
      "cell_type": "code",
      "execution_count": null,
      "metadata": {
        "id": "NfuaopoDAcY2",
        "outputId": "a461e5c6-5511-4990-9be4-446e2bb65e13"
      },
      "outputs": [
        {
          "name": "stdout",
          "output_type": "stream",
          "text": [
            "OK\n"
          ]
        }
      ],
      "source": [
        "x=2\n",
        "\n",
        "if x==2: \n",
        "    print(\"OK\")"
      ]
    },
    {
      "cell_type": "markdown",
      "metadata": {
        "id": "wSG5HR-7AcY2"
      },
      "source": [
        "Przykład bardziej skomplikowany:"
      ]
    },
    {
      "cell_type": "code",
      "execution_count": null,
      "metadata": {
        "id": "qWR1vAtbAcY2",
        "outputId": "72bdcdf3-4332-40f1-fb74-5476881dbad9"
      },
      "outputs": [
        {
          "name": "stdout",
          "output_type": "stream",
          "text": [
            "2\n"
          ]
        }
      ],
      "source": [
        "a = 2\n",
        "b = 4\n",
        "if a > b:\n",
        "    print(b)\n",
        "else:\n",
        "    print(a)"
      ]
    },
    {
      "cell_type": "markdown",
      "metadata": {
        "id": "U4cEU_xNAcY2"
      },
      "source": [
        "W powyższym przykładzie użyliśmy pełnej instrukcji warunkowej <b>IF/ELSE</b>. Istnieje jeszcze bardziej bogatsza instrukcja warunkowa tzw. instrukcja wyboru wielokrotnego <b>IF/ELIF/ELSE</b>:"
      ]
    },
    {
      "cell_type": "code",
      "execution_count": null,
      "metadata": {
        "id": "HqNWbdB_AcY3",
        "outputId": "fea09be4-56fa-4143-a099-4ee8ef6cc247"
      },
      "outputs": [
        {
          "name": "stdout",
          "output_type": "stream",
          "text": [
            "Ten program porównuje dwie liczby\n",
            "Podaj pierwszą z dwóch liczb:\n",
            "Podaj drugą z dwóch liczb:\n",
            "Liczba  w stosunku do  jest:\n",
            "taka sama\n"
          ]
        }
      ],
      "source": [
        "print(\"Ten program porównuje dwie liczby\")\n",
        "x = input(\"Podaj pierwszą z dwóch liczb:\")                                 \n",
        "y = input(\"Podaj drugą z dwóch liczb:\")                                    \n",
        "print(\"Liczba\",x,\"w stosunku do\",y,\"jest:\",)\n",
        "if x==y:\n",
        "    print(\"taka sama\")\n",
        "elif x>y:\n",
        "    print(\"większa\")\n",
        "else:\n",
        "    print(\"mniejsza\")"
      ]
    },
    {
      "cell_type": "markdown",
      "metadata": {
        "id": "OsBg7JLnAcY3"
      },
      "source": [
        "# Operatory logiczne\n",
        "Operatory logiczne, takie jak: <b>and</b> i <b>or</b> umożliwiają budowanie złożonych wyrażeń logicznych, na przykład:"
      ]
    },
    {
      "cell_type": "markdown",
      "metadata": {
        "id": "pA7PopiNAcY3"
      },
      "source": [
        "# Zad. 1\n",
        "\n",
        "Napisz program, który sprawdzi, czy podane przez użytkownika koła mają niepuste przecięcie. Użytkownik programu podaje współrzędne środka oraz promień każdego koła.\n"
      ]
    },
    {
      "cell_type": "code",
      "execution_count": 110,
      "metadata": {
        "collapsed": true,
        "colab": {
          "base_uri": "https://localhost:8080/"
        },
        "id": "U8dlAFOYAcY3",
        "outputId": "9c0da03b-afb2-40ab-a34d-b14aa1f0dbc4"
      },
      "outputs": [
        {
          "output_type": "stream",
          "name": "stdout",
          "text": [
            "Podaj x pierwszego kola:0\n",
            "Podaj y pierwszego kola:0\n",
            "Podaj promien pierwszego kola:5\n",
            "Podaj x pierwszego kola:3\n",
            "Podaj y pierwszego kola:3\n",
            "Podaj promien drugiego kola:3\n",
            "maja przeciecie\n"
          ]
        }
      ],
      "source": [
        "x1 = int(input(\"Podaj x pierwszego kola:\"))\n",
        "y1 = int(input(\"Podaj y pierwszego kola:\"))\n",
        "r1 = int(input(\"Podaj promien pierwszego kola:\"))\n",
        "x2 = int(input(\"Podaj x pierwszego kola:\"))\n",
        "y2 = int(input(\"Podaj y pierwszego kola:\"))\n",
        "r2 = int(input(\"Podaj promien drugiego kola:\"))\n",
        "distance=((x2-x1)**2+(y2-y1)**2)**0.5\n",
        "if distance>r1+r2:\n",
        "  print(\"brak przeciecia\")\n",
        "else:\n",
        "  print(\"maja przeciecie\")"
      ]
    },
    {
      "cell_type": "markdown",
      "metadata": {
        "id": "ECx6JHuiAcY3"
      },
      "source": [
        "# Operator ,,in''\n",
        "Operator <b>in</b> może być używany w celu sprawdzenia, czy określony ,,obiekt'' istnieje w obrębie iterowalnego kontenera obiektów, np. listy:"
      ]
    },
    {
      "cell_type": "code",
      "execution_count": null,
      "metadata": {
        "collapsed": true,
        "id": "LRyQxyptAcY4"
      },
      "outputs": [],
      "source": [
        "if name in [\"John\", \"Rick\"]:\n",
        "    print(\"Your name is either John or Rick.\")"
      ]
    },
    {
      "cell_type": "markdown",
      "metadata": {
        "id": "5ATYHVZjAcY4"
      },
      "source": [
        "Instrukcje warunkowe możemy zagnieżdżać, np.:"
      ]
    },
    {
      "cell_type": "markdown",
      "metadata": {
        "id": "k2OCYiXkAcY4"
      },
      "source": [
        "# 2. Pętle\n",
        "W Pythonie istnieją dwa typy pętli: <b>for<b> i <b>while<b>."
      ]
    },
    {
      "cell_type": "markdown",
      "metadata": {
        "id": "SlLg8kE0AcY4"
      },
      "source": [
        "# 2.1 Pętle iterowane po elementach sekwencji\n",
        "\n",
        "Typowa pętla po liczbach:"
      ]
    },
    {
      "cell_type": "code",
      "execution_count": null,
      "metadata": {
        "id": "30HKE30xAcY4",
        "outputId": "baa05e6f-8394-49e9-d01e-4de56d0b69c6"
      },
      "outputs": [
        {
          "name": "stdout",
          "output_type": "stream",
          "text": [
            "3\n",
            "4\n",
            "5\n",
            "6\n",
            "7\n",
            "8\n",
            "9\n"
          ]
        }
      ],
      "source": [
        "for x in range(3,10):\n",
        "      print(x)"
      ]
    },
    {
      "cell_type": "markdown",
      "metadata": {
        "id": "4RF-46GSAcY5"
      },
      "source": [
        "Funkcja <b>range</b> tworzy \"listę\" wartości całkowitych: \n",
        "\n",
        "- od zera do podanej wartości (jeżeli podamy 1 argument) \n",
        "- od - do (jeżeli podamy 2 argumenty)\n",
        "- możemy podać też trzeci parametr określający przyrost (normalnie +1).\n"
      ]
    },
    {
      "cell_type": "code",
      "execution_count": null,
      "metadata": {
        "id": "jCwa4cYcAcY5",
        "outputId": "d1e6a41a-21be-4c18-ad7a-eafb63b5a872"
      },
      "outputs": [
        {
          "name": "stdout",
          "output_type": "stream",
          "text": [
            "range(0, 10)\n",
            "range(3, 10)\n",
            "range(1, 10, 2)\n",
            "range(4, 0, -1)\n"
          ]
        }
      ],
      "source": [
        "print(range(10))\n",
        "print(range(3, 10))\n",
        "print(range(1,10,2))\n",
        "print(range(4,0,-1))"
      ]
    },
    {
      "cell_type": "markdown",
      "metadata": {
        "id": "iIIN-KWVAcY5"
      },
      "source": [
        "Pętla <b>for</b> może też iterować inne typy danych, np napisy, listy:"
      ]
    },
    {
      "cell_type": "code",
      "execution_count": null,
      "metadata": {
        "id": "0t_vAMC9AcY5",
        "outputId": "a6bb65e9-23cb-4672-a4a8-b22229f2d996"
      },
      "outputs": [
        {
          "name": "stdout",
          "output_type": "stream",
          "text": [
            "Zdrabniamy literki\n",
            "2 3 5 7 \n",
            "apple orange peach "
          ]
        }
      ],
      "source": [
        "bar = \"Zdrabniamy literki\"\n",
        "for i in bar:\n",
        "    print(i, end =\"\")\n",
        "print()\n",
        "\n",
        "x = [2, 3, 5, 7]\n",
        "for i in x:\n",
        "    print(i, end =\" \") \n",
        "print()\n",
        "\n",
        "for e in ['apple', 'orange', 'peach']:\n",
        "    print(e, end =\" \")"
      ]
    },
    {
      "cell_type": "markdown",
      "metadata": {
        "id": "V8pcPdlSAcY5"
      },
      "source": [
        "W takiej pętli nie mamy dostępu do indeksu elementu w liście, ale możemy taki uzyskać, odpowiednio mapując kolekcję za pomocą <b>enumerate</b> (generator):"
      ]
    },
    {
      "cell_type": "code",
      "execution_count": null,
      "metadata": {
        "id": "M1Ch53l1AcY6",
        "outputId": "04ceeabb-dcfc-44ec-d3da-649c2a6dfa6b"
      },
      "outputs": [
        {
          "name": "stdout",
          "output_type": "stream",
          "text": [
            "[(0, 'apple'), (1, 'orange'), (2, 'peach')] \n",
            "\n",
            "0 apple\n",
            "1 orange\n",
            "2 peach\n"
          ]
        }
      ],
      "source": [
        "print(list(enumerate(['apple', 'orange', 'peach'])), \"\\n\")\n",
        "\n",
        "for i, x in enumerate(['apple', 'orange', 'peach']):\n",
        "    print(i, x)"
      ]
    },
    {
      "cell_type": "markdown",
      "metadata": {
        "id": "Cr2CMCqvAcY6"
      },
      "source": [
        "# 2.2 Pętla while\n",
        "\n",
        "Pętla **while** powtarza instrukcje znajdujące się w jej wnętrzu tak długo, dopóki podany warunek logiczny jest spełniony. \n",
        "\n",
        "Na przykład:"
      ]
    },
    {
      "cell_type": "code",
      "execution_count": null,
      "metadata": {
        "id": "YjHqrf9nAcY6",
        "outputId": "fd6cb2b6-c272-48a6-cb80-565270d2bc6e"
      },
      "outputs": [
        {
          "name": "stdout",
          "output_type": "stream",
          "text": [
            "[1, 2, 3, 4, 5]\n",
            "[1, 2, 3, 4]\n",
            "[1, 2, 3]\n",
            "[1, 2]\n",
            "[1]\n",
            "[]\n"
          ]
        }
      ],
      "source": [
        "x=[1,2,3,4,5,6]\n",
        "while x:\n",
        "    x=x[:len(x)-1] # funkcja len() zwraca długość listy (liczbę elementów)\n",
        "    print(x)"
      ]
    },
    {
      "cell_type": "code",
      "execution_count": null,
      "metadata": {
        "id": "7zu_gIC-AcY6",
        "outputId": "45bc8d35-767a-4c4c-c61e-8e646779003f"
      },
      "outputs": [
        {
          "name": "stdout",
          "output_type": "stream",
          "text": [
            "Jestem w while.\n",
            "Jestem w while.\n",
            "Jestem w while.\n",
            "Jestem w while.\n",
            "Jestem w while.\n"
          ]
        }
      ],
      "source": [
        "licznik = 10\n",
        "\n",
        "while licznik < 15:\n",
        "    licznik += 1\n",
        "    print(\"Jestem w while.\")"
      ]
    },
    {
      "cell_type": "markdown",
      "metadata": {
        "id": "2xeJPLOaAcY7"
      },
      "source": [
        "\n",
        "# Zad. 2\n",
        "Napisz program, który będzie wczytywał kolejne słowa i je wypisywał aż do wczytania słowa \"stop\" po którym program się zatrzyma.\n"
      ]
    },
    {
      "cell_type": "code",
      "execution_count": 14,
      "metadata": {
        "colab": {
          "base_uri": "https://localhost:8080/"
        },
        "id": "TeBt7MqtAcY7",
        "outputId": "d8dbfe70-d9f4-4f05-b74b-a0cb5a371b17"
      },
      "outputs": [
        {
          "name": "stdout",
          "output_type": "stream",
          "text": [
            "Podaj slowoslowo\n",
            "slowo\n",
            "Podaj slowoczesc\n",
            "czesc\n",
            "Podaj slowohalo\n",
            "halo\n",
            "Podaj slowostop\n"
          ]
        }
      ],
      "source": [
        "while True:\n",
        "  slowo=input(\"Podaj slowo\")\n",
        "  if(slowo==\"stop\"):\n",
        "    break\n",
        "  print(slowo)\n"
      ]
    },
    {
      "cell_type": "markdown",
      "metadata": {
        "id": "HMSvkIB-AcY7"
      },
      "source": [
        "# Zad. 3\n",
        "\n",
        "Napisz program tworzący tablicę n na m elementową w kształcie tablicy szachowej. Np. dla\n",
        "<br />\n",
        "<tt>\n",
        "n = 5<br />\n",
        "m = 5\n",
        "</tt>\n",
        "\n",
        "otrzymujemy\n",
        "\n",
        "<br />\n",
        "<tt>\n",
        "10101<br />\n",
        "01010<br />\n",
        "10101<br />\n",
        "01010<br />\n",
        "10101<br />\n",
        "</tt>"
      ]
    },
    {
      "cell_type": "code",
      "execution_count": 109,
      "metadata": {
        "colab": {
          "base_uri": "https://localhost:8080/"
        },
        "id": "f1Gl1IMOAcY7",
        "outputId": "d01ab418-16a5-4a1f-9d10-5c94b4c79a21"
      },
      "outputs": [
        {
          "output_type": "stream",
          "name": "stdout",
          "text": [
            "Podaj dlugosc tablicy8\n",
            "Podaj szerokosc tablicy8\n",
            "10101010\n",
            "01010101\n",
            "10101010\n",
            "01010101\n",
            "10101010\n",
            "01010101\n",
            "10101010\n",
            "01010101\n"
          ]
        }
      ],
      "source": [
        "x=int(input(\"Podaj dlugosc tablicy\"))\n",
        "y=int(input(\"Podaj szerokosc tablicy\"))\n",
        "for i in range(0, x):\n",
        "  for j in range(0, y):\n",
        "    print (1 if (i + j) % 2 == 0 else 0, end=\"\")\n",
        "  print()"
      ]
    },
    {
      "cell_type": "markdown",
      "metadata": {
        "id": "V4qXWk7bAcY7"
      },
      "source": [
        "# 3. Formatowanie liczb\n",
        "\n",
        "Celem pętli często jest wyświetlenie kolumny liczb. \n",
        "\n",
        "Aby liczby wyświetlane były w należyty sposób i w pożądanym miejscu używamy operatora formatowania **%** w połączeniu z ciągiem formatującym. \n",
        "\n",
        "Ciąg formatujący składa się ze znaku **%**, po którym następują \n",
        "\n",
        "* opcje formatowania, \n",
        "* ilość znaków przeznaczonych do wyświetlenia \n",
        "* oraz typ danej do wyświetlenia \n",
        "(przy czym tylko trzeci element – tj. typ danych jest wymagany).\n",
        "\n",
        "Typ danej sygnalizujemy pojedynczą literą. I tak:\n",
        "* litera s oznacza napis (konwertuje każdy typ danych na tekst), np.:"
      ]
    },
    {
      "cell_type": "code",
      "execution_count": null,
      "metadata": {
        "id": "si3qY80XAcY7",
        "outputId": "0ed70010-5e6e-4b75-8829-df4464366636"
      },
      "outputs": [
        {
          "name": "stdout",
          "output_type": "stream",
          "text": [
            "10\n",
            "[0, 1, 2, 3, 4, 5]\n",
            "txt\n",
            "      test\n",
            "test      \n",
            "xylop\n"
          ]
        }
      ],
      "source": [
        "# stary sposób\n",
        "\n",
        "print(\"%s\" % 10)\n",
        "print(\"%s\" % list(range(6)))\n",
        "print(\"%s\" % \"txt\")\n",
        "print('%10s' % 'test')\n",
        "print('%-10s' % 'test')\n",
        "print('%.5s' % 'xylophone')"
      ]
    },
    {
      "cell_type": "markdown",
      "metadata": {
        "id": "uGjWnRtZAcY7"
      },
      "source": [
        "* litera **d** oznacza dziesiętną liczbę całkowitą (konwertuje kompatybilny typ danych na liczbę całkowitą), np.:"
      ]
    },
    {
      "cell_type": "code",
      "execution_count": null,
      "metadata": {
        "id": "Jrp5kuC8AcY8",
        "outputId": "f2360d18-a7f2-4171-c753-6a65234a1ccf"
      },
      "outputs": [
        {
          "name": "stdout",
          "output_type": "stream",
          "text": [
            "255\n",
            "2\n",
            "255\n",
            "2\n"
          ]
        }
      ],
      "source": [
        "print(\"%d\" % 0xff)\n",
        "print(\"%d\" % 2)\n",
        "print('{:d}'.format(0xff))\n",
        "print('{:d}'.format(2))"
      ]
    },
    {
      "cell_type": "markdown",
      "metadata": {
        "id": "ew4khs32AcY8"
      },
      "source": [
        "* litera **f** oznacza liczbę zmiennopozycyjną w postaci ułamka dziesiętnego, np.:"
      ]
    },
    {
      "cell_type": "code",
      "execution_count": null,
      "metadata": {
        "id": "SzmV9ZbMAcY8",
        "outputId": "a656de46-66ca-4697-c94f-5d560aded9f7"
      },
      "outputs": [
        {
          "name": "stdout",
          "output_type": "stream",
          "text": [
            "123.000000\n",
            "1.230000\n",
            "123.000000\n",
            "1.230000\n"
          ]
        }
      ],
      "source": [
        "print(\"%f\" % 123)\n",
        "print(\"%f\" % 1.23)\n",
        "\n",
        "print('{:f}'.format(123))\n",
        "print('{:f}'.format(1.23))"
      ]
    },
    {
      "cell_type": "markdown",
      "metadata": {
        "id": "xZICZdIqAcY8"
      },
      "source": [
        "# Zad. 4\n",
        "\n",
        "Napisać program rysujący \"miarkę\" o zadanej długości. Należy prawidłowo obsłużyć liczby składające się z kilku cyfr, np.:\n",
        "\n",
        "$$|....|....|....|....|....|....|....|....|$$\n",
        "$$0 \\quad \\ 1 \\quad \\ 2 \\quad \\ 3 \\quad \\ 4 \\quad \\ 5 \\quad \\ 6 \\quad \\ 7 \\quad \\ 8$$"
      ]
    },
    {
      "cell_type": "code",
      "execution_count": 111,
      "metadata": {
        "colab": {
          "base_uri": "https://localhost:8080/"
        },
        "id": "HF-JtXucAcY8",
        "outputId": "7d447520-c084-4b96-b1ef-c336cfefab80"
      },
      "outputs": [
        {
          "output_type": "stream",
          "name": "stdout",
          "text": [
            "Podaj dlugosc miarki10\n",
            "|....|....|....|....|....|....|....|....|....|....|....|\n",
            "    0    1    2    3    4    5    6    7    8    9   10"
          ]
        }
      ],
      "source": [
        "n=int(input(\"Podaj dlugosc miarki\"))\n",
        "print(\"|....\"*(n+1)+\"|\")\n",
        "for i in range(0,n+1):\n",
        "  x=4-len(str(i))+1\n",
        "  print(\" \"*x,i, sep=\"\", end=\"\")"
      ]
    },
    {
      "cell_type": "markdown",
      "metadata": {
        "id": "UmF3hGdaAcY8"
      },
      "source": [
        "# Funkcje\n",
        "\n",
        "Definicja funkcji musi zawierać:\n",
        "\n",
        "* nagłówek funkcji:\n",
        "  * nazwę funkcji, która pozwoli zidentyfikować funkcję w pozostałej części programu,\n",
        "  * listę argumentów\n",
        "* ciało funkcji, zawierające instrukcje, które zostaną wykonane w momencie wywołania (użycia) funkcji\n",
        "  * jeżeli funkcja ma zwracać jakiś rezultat, musi zawierać instrukcję ,,return''\n",
        "\n",
        "W języku Python składnia definicji funkcji jest następująca:"
      ]
    },
    {
      "cell_type": "code",
      "execution_count": null,
      "metadata": {
        "collapsed": true,
        "id": "WT33X7LPAcY9"
      },
      "outputs": [],
      "source": [
        "def nazwa_funkcji (lista_parametrow):\n",
        "    instrukcje_do_wykonania"
      ]
    },
    {
      "cell_type": "markdown",
      "metadata": {
        "id": "kL6AC3GKAcY9"
      },
      "source": [
        "Przykład funkcji:"
      ]
    },
    {
      "cell_type": "code",
      "execution_count": null,
      "metadata": {
        "id": "FE9MRxzvAcY9",
        "outputId": "23342c04-eb80-48aa-b2bc-8d536a9a22a3"
      },
      "outputs": [
        {
          "name": "stdout",
          "output_type": "stream",
          "text": [
            "To jest użycie funkcji\n",
            "tak\n"
          ]
        }
      ],
      "source": [
        "# Przykład 1\n",
        "def wypisz(lancuch):\n",
        "    print(lancuch)\n",
        "    \n",
        "wypisz(\"To jest użycie funkcji\")\n",
        "x = \"tak\"\n",
        "wypisz(x)"
      ]
    },
    {
      "cell_type": "code",
      "execution_count": null,
      "metadata": {
        "id": "tG8sQ93VAcY9",
        "outputId": "b7cfb2b7-6159-43d3-c383-6a695c92d57a"
      },
      "outputs": [
        {
          "name": "stdout",
          "output_type": "stream",
          "text": [
            "12\n",
            "1\n"
          ]
        }
      ],
      "source": [
        "# Przykład 2 - zwraca wynik\n",
        "def suma(x, y):\n",
        "    return x+y\n",
        "\n",
        "print(suma(4,8))\n",
        "x = suma(2, -1)\n",
        "print(x)"
      ]
    },
    {
      "cell_type": "markdown",
      "metadata": {
        "id": "c02BffR3AcY9"
      },
      "source": [
        "## Wiele rezultatów\n",
        "Jeżeli chcemy aby funkcja zwracała więcej niż jedną zmienną to stosujemy krotkę ,,(zmienna_1, ..., zmienna_n)'':"
      ]
    },
    {
      "cell_type": "code",
      "execution_count": null,
      "metadata": {
        "id": "opiIC6DWAcY9",
        "outputId": "a3201827-7f95-4e9f-96b8-fcbc742518c0"
      },
      "outputs": [
        {
          "name": "stdout",
          "output_type": "stream",
          "text": [
            "(6, -2)\n",
            "(6, -2)\n"
          ]
        }
      ],
      "source": [
        "def f1(a,b):\n",
        "    return a+b,a-b\n",
        "\n",
        "def f2(a,b):\n",
        "    return (a+b,a-b)\n",
        "\n",
        "print(f1(2, 4))\n",
        "print(f2(2, 4))"
      ]
    },
    {
      "cell_type": "markdown",
      "metadata": {
        "id": "4sHfiwZvAcY9"
      },
      "source": [
        "# Zad. 5\n",
        "\n",
        "Napisz funkcje, która zwraca:\n",
        "\n",
        "* sumę,\n",
        "* różnicę,\n",
        "* iloczyn elementów listy.\n"
      ]
    },
    {
      "cell_type": "code",
      "execution_count": 74,
      "metadata": {
        "collapsed": true,
        "colab": {
          "base_uri": "https://localhost:8080/"
        },
        "id": "vKlUrtQGAcY-",
        "outputId": "482c5144-9ff4-4247-dde4-a5dae73b05ce"
      },
      "outputs": [
        {
          "output_type": "stream",
          "name": "stdout",
          "text": [
            "(55, -55, 0)\n"
          ]
        }
      ],
      "source": [
        "def f(list):\n",
        "  suma=0\n",
        "  roznica=0\n",
        "  iloczyn=1\n",
        "  for i in list:\n",
        "    suma+=i\n",
        "    roznica-=i\n",
        "    iloczyn*=i\n",
        "  return suma, roznica, iloczyn\n",
        "print(f([0,1,2,3,4,5,6,7,8,9,10]))"
      ]
    },
    {
      "cell_type": "markdown",
      "metadata": {
        "id": "F0CKo5czAcY-"
      },
      "source": [
        "# Typy sekwencyjne\n",
        "\n",
        "Sekwencyjne typy danych służą do przechowywaniu wielu wartości w pojedynczej zmiennej (w innych językach nazywane tablicami), w odróżnieniu od typów prostych, takich jak np. int, które w pojedynczej zmiennej mogą zachować tylko jedną wartość. Do typów sekwencyjnych należą: napisy (łańcuchy znaków), listy, krotki."
      ]
    },
    {
      "cell_type": "markdown",
      "metadata": {
        "id": "B9FcAtKrAcY-"
      },
      "source": [
        "# 1. Napisy/łańcuchy\n",
        "Do tej pory poznaliśmy już jeden typ sekwencyjny, mianowicie typ łańcuchowy (łańcuchy znaków). Wartości napisów podajemy w cudzysłowach lub apostrofach:"
      ]
    },
    {
      "cell_type": "code",
      "execution_count": null,
      "metadata": {
        "id": "eT-T5JRkAcY-",
        "outputId": "68259b99-d3fe-48d9-89c7-293e7c004444"
      },
      "outputs": [
        {
          "name": "stdout",
          "output_type": "stream",
          "text": [
            "T\n",
            "o\n",
            "j\n",
            "s\n",
            "i\n",
            "p\n"
          ]
        }
      ],
      "source": [
        "x = \"To jest napis\"\n",
        "print(x[0])\n",
        "print(x[1])\n",
        "print(x[3])\n",
        "\n",
        "print(x[-1])\n",
        "print(x[-2])\n",
        "print(x[-3])"
      ]
    },
    {
      "cell_type": "code",
      "execution_count": null,
      "metadata": {
        "id": "2vTCkiuGAcY-",
        "outputId": "b69ef3c0-008b-46da-8dbb-16d498b78ccf"
      },
      "outputs": [
        {
          "name": "stdout",
          "output_type": "stream",
          "text": [
            "13\n"
          ]
        }
      ],
      "source": [
        "x = \"To jest napis\"\n",
        "print(len(x))"
      ]
    },
    {
      "cell_type": "markdown",
      "metadata": {
        "id": "V_toNMXlAcY-"
      },
      "source": [
        "# 2. Listy\n",
        "Do zapamiętywania sekwencji danych nie będącymi znakami (np. liczby) służy typ sekwencyjny - **lista**. Elementy list mogą być dowolnego typu, to znaczy mogą zawierać zarówno liczby jak i napisy."
      ]
    },
    {
      "cell_type": "code",
      "execution_count": null,
      "metadata": {
        "id": "mxlHGTQgAcY-",
        "outputId": "14ae7510-38b2-42f0-9959-e6a517da7916"
      },
      "outputs": [
        {
          "name": "stdout",
          "output_type": "stream",
          "text": [
            "[1, 2, 3]\n",
            "[1, 'tak', 5]\n"
          ]
        }
      ],
      "source": [
        "x = [1, 2, 3]\n",
        "y = [1, 'tak', 5]\n",
        "\n",
        "print(x)\n",
        "print(y)"
      ]
    },
    {
      "cell_type": "code",
      "execution_count": null,
      "metadata": {
        "id": "1avDNmbRAcY-",
        "outputId": "dbe72198-4df6-4fa9-e92a-485346b17a00"
      },
      "outputs": [
        {
          "name": "stdout",
          "output_type": "stream",
          "text": [
            "True\n",
            "False\n",
            "True\n"
          ]
        }
      ],
      "source": [
        "x = [1, 2, 3, 4]\n",
        "\n",
        "print(2 in x)\n",
        "print(3 not in x)\n",
        "print(5 not in x)"
      ]
    },
    {
      "cell_type": "code",
      "execution_count": null,
      "metadata": {
        "id": "vE8T94WeAcY_",
        "outputId": "ccfbcf2e-cd97-48ac-9790-180fb094c907"
      },
      "outputs": [
        {
          "name": "stdout",
          "output_type": "stream",
          "text": [
            "[range(0, 5), [8, -7, -1]]\n",
            "range(0, 5)\n",
            "[8, -7, -1]\n",
            "-7\n"
          ]
        }
      ],
      "source": [
        "x = [range(5), [8, -7, -1]]\n",
        "\n",
        "print(x)\n",
        "print(x[0])\n",
        "print(x[1])\n",
        "print(x[1][1])"
      ]
    },
    {
      "cell_type": "markdown",
      "metadata": {
        "id": "J6WEArWSAcY_"
      },
      "source": [
        "# Zad. 6\n",
        "\n",
        "Napisać program zamieniający napis na napis „rozstrzelony”, czyli wstawiający spacje przed napisem, pomiędzy literami i po napisie. Przykład: **'Python' → ' P y t h o n '**. "
      ]
    },
    {
      "cell_type": "code",
      "execution_count": 88,
      "metadata": {
        "colab": {
          "base_uri": "https://localhost:8080/"
        },
        "id": "Ooz4qNR1AcY_",
        "outputId": "32670e5d-2208-464a-96a1-3ce486588ba5"
      },
      "outputs": [
        {
          "output_type": "stream",
          "name": "stdout",
          "text": [
            "Podaj napispython\n",
            " p y t h o n \n"
          ]
        }
      ],
      "source": [
        "napis=input(\"Podaj napis\")\n",
        "wynik=\" \"\n",
        "for i in napis:\n",
        "  wynik+=i+\" \"\n",
        "print(wynik)\n",
        "\n"
      ]
    },
    {
      "cell_type": "markdown",
      "metadata": {
        "id": "w5tcUFNhAcY_"
      },
      "source": [
        "# Zad. 7\n",
        "Napisz funkcję **reverse(napis)**, która z napisu będącego jej argumentem tworzy odwrócony napis. Przykładowo, wywołanie reverse(\"hello\") powinno zwrócić napis \"olleh\". "
      ]
    },
    {
      "cell_type": "code",
      "execution_count": 87,
      "metadata": {
        "colab": {
          "base_uri": "https://localhost:8080/"
        },
        "id": "Z7P-oaR0AcY_",
        "outputId": "024a2822-0400-471c-b895-1a701056c8d5"
      },
      "outputs": [
        {
          "output_type": "stream",
          "name": "stdout",
          "text": [
            "olleh\n"
          ]
        }
      ],
      "source": [
        "def reverse(napis):\n",
        "  return napis[::-1]\n",
        "print(reverse(\"hello\"))\n"
      ]
    },
    {
      "cell_type": "markdown",
      "metadata": {
        "id": "yRqRCfhDAcY_"
      },
      "source": [
        "## Moduły i pakiety\n",
        "Moduł to plik w Pythonie zawierający definicję klas, funkcji, stałych i zmiennych. Definicje zawarte w module mogą być zaimportowane do innych modułów lub do modułu głównego. Wewnątrz modułu jego nazwa dostępna jest jako wartość zmiennej globalnej **<tt>\\__name__</tt>**."
      ]
    },
    {
      "cell_type": "markdown",
      "metadata": {
        "id": "Yc59I5dtAcY_"
      },
      "source": [
        "## Wybrane pakiety, moduły:\n",
        "\n",
        "* random - moduł ten zawiera funkcje obsługujące generowanie liczb pseudolosowych:"
      ]
    },
    {
      "cell_type": "code",
      "execution_count": null,
      "metadata": {
        "id": "8LYcOIp_AcY_",
        "outputId": "3c1869b4-f0f4-4037-90ee-24ec020151b4"
      },
      "outputs": [
        {
          "name": "stdout",
          "output_type": "stream",
          "text": [
            "3\n",
            "6\n",
            "10\n"
          ]
        }
      ],
      "source": [
        "import random\n",
        "\n",
        "random.seed() # inicjalizacja generatora liczb pseudolosowych\n",
        "\n",
        "# losowanie liczb całkowitych z zakresu od..do.\n",
        "print(random.randint(1,10))\n",
        "print(random.randint(1,10))\n",
        "print(random.randint(1,10))"
      ]
    },
    {
      "cell_type": "markdown",
      "metadata": {
        "id": "n0TiwAgfAcZA"
      },
      "source": [
        "* **math** - moduł ten zawiera definicje najczęściej używanych funkcji matematycznych:"
      ]
    },
    {
      "cell_type": "code",
      "execution_count": null,
      "metadata": {
        "id": "Yqa9jJhwAcZA",
        "outputId": "51c46c45-055a-4e8b-9529-2e3d3494d08b"
      },
      "outputs": [
        {
          "name": "stdout",
          "output_type": "stream",
          "text": [
            "5\n",
            "4\n",
            "3.0\n",
            "(0.5, 2.0)\n",
            "7.38905609893065\n",
            "1.0\n",
            "3.0\n",
            "1.5\n",
            "0.0\n",
            "0.5403023058681398\n"
          ]
        }
      ],
      "source": [
        "from math import *\n",
        "\n",
        "print(ceil(4.7)) # zwraca sufit liczby rzeczywistej\n",
        "print(floor(4.7)) # zwraca podłogę liczby rzeczywistej\n",
        "print(fabs(-3)) # zwraca wartość absolutną liczby rzeczywistej\n",
        "print(modf(2.5)) # zwraca krotkę zawierającą część ułamkową i całkowitą liczby rzeczywistej\n",
        "print(exp(2)) # zwraca e do potęgi x\n",
        "print(log(e)) # zwraca logarytm naturalny\n",
        "print(log(8, 2)) # zwraca logarytm o podstawie 2 (drugi parametr)\n",
        "print(sqrt(2.25)) # zwraca pierwiastek kwadratowy\n",
        "print(acos(1))\n",
        "print(cos(1))"
      ]
    },
    {
      "cell_type": "markdown",
      "metadata": {
        "id": "_qewlgLNAcZA"
      },
      "source": [
        "\n",
        "# Zad. 8\n",
        "\n",
        "Wyestymować wartość liczby $\\pi$ metodą Monte Carlo.\n",
        "\n",
        "Pole kwadratu to $4r^2$, a pole koła wynosi $\\pi r^2$. W takim razie stosunek:\n",
        "$$\n",
        "\\frac{P_{kola}}{P_{kwadratu}} = \\frac{\\pi r^2}{4 r^2} = \\frac{\\pi}{4}.\n",
        "$$\n",
        "W konsekwencji: \n",
        "$$\n",
        "\\pi = 4 \\frac{P_{kola}}{P_{kwadratu}}.\n",
        "$$\n",
        "\n",
        "Jeżeli będziemy losować punkty o współrzędnych od $-2r$ do $2r$, to stosunek liczby punktów zawierających się w kole o środku w punkcie $(0,0)$ i promieniu $r$ do wszystkich wylosowanych punktów, będzie dążył w nieskończoności (z pewnym prawdopodobieństwem) do stosunku tego pola koła do koła kwadratu o boku $2r$.\n",
        "\n",
        "Cała metoda sprowadza się więc do tego, by losować punkty i sprawdzać, czy mieszczą się w kole. "
      ]
    },
    {
      "cell_type": "code",
      "execution_count": 106,
      "metadata": {
        "colab": {
          "base_uri": "https://localhost:8080/"
        },
        "id": "mHRVXAB8AcZA",
        "outputId": "9a6f5914-54a6-4dc4-ce69-76fd440ff7a2"
      },
      "outputs": [
        {
          "output_type": "stream",
          "name": "stdout",
          "text": [
            "Podaj dlugosc promienia10\n",
            "0.77828\n"
          ]
        }
      ],
      "source": [
        "import random\n",
        "r=int(input(\"Podaj dlugosc promienia\"))\n",
        "iloscWKole=0\n",
        "iloscWKwadracie=0\n",
        "for i in range(0,100000):\n",
        "  x=random.uniform(-r,r)\n",
        "  y=random.uniform(-r,r)\n",
        "  dystans=(x**2+y**2)**0.5\n",
        "  if dystans<=r:\n",
        "    iloscWKole+=1\n",
        "  iloscWKwadracie+=1\n",
        "  pi=4*iloscWKole/iloscWKwadracie\n",
        "print(pi)\n"
      ]
    }
  ],
  "metadata": {
    "kernelspec": {
      "display_name": "Python 3",
      "language": "python",
      "name": "python3"
    },
    "language_info": {
      "codemirror_mode": {
        "name": "ipython",
        "version": 3
      },
      "file_extension": ".py",
      "mimetype": "text/x-python",
      "name": "python",
      "nbconvert_exporter": "python",
      "pygments_lexer": "ipython3",
      "version": "3.6.0"
    },
    "colab": {
      "name": "Z01_python_introduction.ipynb",
      "provenance": []
    }
  },
  "nbformat": 4,
  "nbformat_minor": 0
}
